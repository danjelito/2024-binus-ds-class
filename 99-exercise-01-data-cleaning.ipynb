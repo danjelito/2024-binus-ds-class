{
 "cells": [
  {
   "cell_type": "markdown",
   "metadata": {},
   "source": [
    "# Basic Data Cleaning for Machine Learning\n",
    "\n",
    "In this exercise, you'll work with a dataset containing four features: date, number of customers, condition and temperature, and one label: number of ice cream sales. You'll practice importing the dataset, cleaning the data, handling missing values, encoding categorical variables, and standardizing the data using Pandas."
   ]
  },
  {
   "cell_type": "markdown",
   "metadata": {},
   "source": [
    "## Step 1: Download and Load the Dataset\n",
    "\n",
    "1. **Download the Dataset**: Ensure that the Excel file you are working with includes the following columns: `date`, `number of customers`, `temperature`, `condition`, and `number of ice cream sales`.\n",
    "\n",
    "   **Hint**: You should have an Excel file prepared and saved in the correct format before starting the hands-on exercise.\n",
    "\n",
    "2. **Load the Dataset** using Pandas. Import the data into a DataFrame so you can work with it.\n",
    "\n",
    "   **Hint**: Pandas has a function to read Excel files directly into DataFrames. "
   ]
  },
  {
   "cell_type": "code",
   "execution_count": 1,
   "metadata": {},
   "outputs": [
    {
     "data": {
      "text/html": [
       "<div>\n",
       "<style scoped>\n",
       "    .dataframe tbody tr th:only-of-type {\n",
       "        vertical-align: middle;\n",
       "    }\n",
       "\n",
       "    .dataframe tbody tr th {\n",
       "        vertical-align: top;\n",
       "    }\n",
       "\n",
       "    .dataframe thead th {\n",
       "        text-align: right;\n",
       "    }\n",
       "</style>\n",
       "<table border=\"1\" class=\"dataframe\">\n",
       "  <thead>\n",
       "    <tr style=\"text-align: right;\">\n",
       "      <th></th>\n",
       "      <th>date</th>\n",
       "      <th>number of customer</th>\n",
       "      <th>temperature</th>\n",
       "      <th>condition</th>\n",
       "      <th>ice cream sales</th>\n",
       "    </tr>\n",
       "  </thead>\n",
       "  <tbody>\n",
       "    <tr>\n",
       "      <th>0</th>\n",
       "      <td>2024-01-01</td>\n",
       "      <td>NaN</td>\n",
       "      <td>21.0</td>\n",
       "      <td>normal</td>\n",
       "      <td>832</td>\n",
       "    </tr>\n",
       "    <tr>\n",
       "      <th>1</th>\n",
       "      <td>2024-01-02</td>\n",
       "      <td>154.0</td>\n",
       "      <td>22.0</td>\n",
       "      <td>normal</td>\n",
       "      <td>661</td>\n",
       "    </tr>\n",
       "    <tr>\n",
       "      <th>2</th>\n",
       "      <td>2024-01-03</td>\n",
       "      <td>193.0</td>\n",
       "      <td>21.0</td>\n",
       "      <td>normal</td>\n",
       "      <td>821</td>\n",
       "    </tr>\n",
       "    <tr>\n",
       "      <th>3</th>\n",
       "      <td>2024-01-04</td>\n",
       "      <td>100.0</td>\n",
       "      <td>20.0</td>\n",
       "      <td>NaN</td>\n",
       "      <td>440</td>\n",
       "    </tr>\n",
       "    <tr>\n",
       "      <th>4</th>\n",
       "      <td>2024-01-05</td>\n",
       "      <td>150.0</td>\n",
       "      <td>22.0</td>\n",
       "      <td>normal</td>\n",
       "      <td>800</td>\n",
       "    </tr>\n",
       "  </tbody>\n",
       "</table>\n",
       "</div>"
      ],
      "text/plain": [
       "        date  number of customer  temperature condition  ice cream sales\n",
       "0 2024-01-01                 NaN         21.0    normal              832\n",
       "1 2024-01-02               154.0         22.0    normal              661\n",
       "2 2024-01-03               193.0         21.0    normal              821\n",
       "3 2024-01-04               100.0         20.0       NaN              440\n",
       "4 2024-01-05               150.0         22.0    normal              800"
      ]
     },
     "execution_count": 1,
     "metadata": {},
     "output_type": "execute_result"
    }
   ],
   "source": [
    "import pandas as pd\n",
    "\n",
    "df = pd.read_excel(\"input/small-store-sales.xlsx\")\n",
    "df.head()"
   ]
  },
  {
   "cell_type": "markdown",
   "metadata": {},
   "source": [
    "## Step 2: Cleaning the Data\n",
    "\n",
    "1. Check for missing values in the dataset. Before moving forward, identify which values are missing and in which columns.\n",
    "\n",
    "Hint: Pandas has a function that helps you detect missing values in your dataset.\n",
    "\n",
    "2. Handle the missing values accordingly:\n",
    "\n",
    "    - For numerical data, fill the missing values with the average value of the column.\n",
    "    - For categorical data, fill the missing values with the most frequently occurring value in the column.\n",
    "\n",
    "Hint: Pandas provides functions to fill missing values with a specific value or a calculation like mean or mode."
   ]
  },
  {
   "cell_type": "code",
   "execution_count": 2,
   "metadata": {},
   "outputs": [
    {
     "data": {
      "text/plain": [
       "date                  0\n",
       "number of customer    5\n",
       "temperature           3\n",
       "condition             3\n",
       "ice cream sales       0\n",
       "dtype: int64"
      ]
     },
     "execution_count": 2,
     "metadata": {},
     "output_type": "execute_result"
    }
   ],
   "source": [
    "df.isna().sum()"
   ]
  },
  {
   "cell_type": "code",
   "execution_count": 3,
   "metadata": {},
   "outputs": [],
   "source": [
    "mean_num_customer = df[\"number of customer\"].mean()\n",
    "df[\"number of customer\"] = df[\"number of customer\"].fillna(mean_num_customer)\n",
    "\n",
    "mean_temp = df[\"temperature\"].mean()\n",
    "df[\"temperature\"] = df[\"temperature\"].fillna(mean_temp)\n",
    "\n",
    "mode_condition = df[\"condition\"].mode().values[0]\n",
    "df[\"condition\"] = df[\"condition\"].fillna(mode_condition)"
   ]
  },
  {
   "cell_type": "code",
   "execution_count": 4,
   "metadata": {},
   "outputs": [
    {
     "data": {
      "text/plain": [
       "date                  0\n",
       "number of customer    0\n",
       "temperature           0\n",
       "condition             0\n",
       "ice cream sales       0\n",
       "dtype: int64"
      ]
     },
     "execution_count": 4,
     "metadata": {},
     "output_type": "execute_result"
    }
   ],
   "source": [
    "df.isna().sum()"
   ]
  },
  {
   "cell_type": "markdown",
   "metadata": {},
   "source": [
    "## Step 3: Encoding Categorical Variables\n",
    "\n",
    "1. There is one categorical variable in the dataset. Encode this variable to make it usable in your analysis. Machine learning algorithms work with numerical values, so you'll need to convert this categorical variable into a numerical format.\n",
    "\n",
    "You can use a function in Pandas that transforms a categorical column into multiple binary (0 or 1) columns.\n",
    "\n",
    "Hint: Look for a Pandas method that \"expands\" categories into separate columns, with each representing one category."
   ]
  },
  {
   "cell_type": "code",
   "execution_count": 5,
   "metadata": {},
   "outputs": [
    {
     "data": {
      "text/html": [
       "<div>\n",
       "<style scoped>\n",
       "    .dataframe tbody tr th:only-of-type {\n",
       "        vertical-align: middle;\n",
       "    }\n",
       "\n",
       "    .dataframe tbody tr th {\n",
       "        vertical-align: top;\n",
       "    }\n",
       "\n",
       "    .dataframe thead th {\n",
       "        text-align: right;\n",
       "    }\n",
       "</style>\n",
       "<table border=\"1\" class=\"dataframe\">\n",
       "  <thead>\n",
       "    <tr style=\"text-align: right;\">\n",
       "      <th></th>\n",
       "      <th>date</th>\n",
       "      <th>number of customer</th>\n",
       "      <th>temperature</th>\n",
       "      <th>ice cream sales</th>\n",
       "      <th>election</th>\n",
       "      <th>normal</th>\n",
       "    </tr>\n",
       "  </thead>\n",
       "  <tbody>\n",
       "    <tr>\n",
       "      <th>0</th>\n",
       "      <td>2024-01-01</td>\n",
       "      <td>151.230769</td>\n",
       "      <td>21.0</td>\n",
       "      <td>832</td>\n",
       "      <td>0.0</td>\n",
       "      <td>1.0</td>\n",
       "    </tr>\n",
       "    <tr>\n",
       "      <th>1</th>\n",
       "      <td>2024-01-02</td>\n",
       "      <td>154.000000</td>\n",
       "      <td>22.0</td>\n",
       "      <td>661</td>\n",
       "      <td>0.0</td>\n",
       "      <td>1.0</td>\n",
       "    </tr>\n",
       "    <tr>\n",
       "      <th>2</th>\n",
       "      <td>2024-01-03</td>\n",
       "      <td>193.000000</td>\n",
       "      <td>21.0</td>\n",
       "      <td>821</td>\n",
       "      <td>0.0</td>\n",
       "      <td>1.0</td>\n",
       "    </tr>\n",
       "    <tr>\n",
       "      <th>3</th>\n",
       "      <td>2024-01-04</td>\n",
       "      <td>100.000000</td>\n",
       "      <td>20.0</td>\n",
       "      <td>440</td>\n",
       "      <td>0.0</td>\n",
       "      <td>1.0</td>\n",
       "    </tr>\n",
       "    <tr>\n",
       "      <th>4</th>\n",
       "      <td>2024-01-05</td>\n",
       "      <td>150.000000</td>\n",
       "      <td>22.0</td>\n",
       "      <td>800</td>\n",
       "      <td>0.0</td>\n",
       "      <td>1.0</td>\n",
       "    </tr>\n",
       "  </tbody>\n",
       "</table>\n",
       "</div>"
      ],
      "text/plain": [
       "        date  number of customer  temperature  ice cream sales  election  \\\n",
       "0 2024-01-01          151.230769         21.0              832       0.0   \n",
       "1 2024-01-02          154.000000         22.0              661       0.0   \n",
       "2 2024-01-03          193.000000         21.0              821       0.0   \n",
       "3 2024-01-04          100.000000         20.0              440       0.0   \n",
       "4 2024-01-05          150.000000         22.0              800       0.0   \n",
       "\n",
       "   normal  \n",
       "0     1.0  \n",
       "1     1.0  \n",
       "2     1.0  \n",
       "3     1.0  \n",
       "4     1.0  "
      ]
     },
     "execution_count": 5,
     "metadata": {},
     "output_type": "execute_result"
    }
   ],
   "source": [
    "df[\"election\"] = pd.get_dummies(df[\"condition\"]).astype(float)[\"election\"]\n",
    "df[\"normal\"] = pd.get_dummies(df[\"condition\"]).astype(float)[\"normal\"]\n",
    "\n",
    "df = df.drop(columns=[\"condition\"])\n",
    "\n",
    "df.head()"
   ]
  },
  {
   "cell_type": "markdown",
   "metadata": {},
   "source": [
    "## Step 4: Standardizing the Data\n",
    "\n",
    "1. Scale the numerical features so that they are in the same range. This is important because machine learning algorithms may perform better when features have similar scales.\n",
    "\n",
    "You can use a scaler from the sklearn.preprocessing module to standardize numerical features. Look for a method that ensures your data has a mean of 0 and a standard deviation of 1.\n",
    "\n",
    "Hint: Remember to fit the scaler on the numerical columns and then transform them before continuing to the next step."
   ]
  },
  {
   "cell_type": "code",
   "execution_count": 6,
   "metadata": {},
   "outputs": [],
   "source": [
    "df = df.drop(columns=[\"date\"])"
   ]
  },
  {
   "cell_type": "code",
   "execution_count": 7,
   "metadata": {},
   "outputs": [],
   "source": [
    "from sklearn.preprocessing import StandardScaler\n",
    "\n",
    "scaler = StandardScaler()\n",
    "scaler.fit(df)\n",
    "result = scaler.transform(df)\n",
    "df = pd.DataFrame(result, columns=df.columns)"
   ]
  },
  {
   "cell_type": "code",
   "execution_count": 8,
   "metadata": {},
   "outputs": [
    {
     "data": {
      "text/html": [
       "<div>\n",
       "<style scoped>\n",
       "    .dataframe tbody tr th:only-of-type {\n",
       "        vertical-align: middle;\n",
       "    }\n",
       "\n",
       "    .dataframe tbody tr th {\n",
       "        vertical-align: top;\n",
       "    }\n",
       "\n",
       "    .dataframe thead th {\n",
       "        text-align: right;\n",
       "    }\n",
       "</style>\n",
       "<table border=\"1\" class=\"dataframe\">\n",
       "  <thead>\n",
       "    <tr style=\"text-align: right;\">\n",
       "      <th></th>\n",
       "      <th>number of customer</th>\n",
       "      <th>temperature</th>\n",
       "      <th>ice cream sales</th>\n",
       "      <th>election</th>\n",
       "      <th>normal</th>\n",
       "    </tr>\n",
       "  </thead>\n",
       "  <tbody>\n",
       "    <tr>\n",
       "      <th>0</th>\n",
       "      <td>0.000000</td>\n",
       "      <td>-0.961263</td>\n",
       "      <td>0.104336</td>\n",
       "      <td>-0.438529</td>\n",
       "      <td>0.438529</td>\n",
       "    </tr>\n",
       "    <tr>\n",
       "      <th>1</th>\n",
       "      <td>0.111673</td>\n",
       "      <td>-0.671850</td>\n",
       "      <td>-0.642066</td>\n",
       "      <td>-0.438529</td>\n",
       "      <td>0.438529</td>\n",
       "    </tr>\n",
       "    <tr>\n",
       "      <th>2</th>\n",
       "      <td>1.684403</td>\n",
       "      <td>-0.961263</td>\n",
       "      <td>0.056322</td>\n",
       "      <td>-0.438529</td>\n",
       "      <td>0.438529</td>\n",
       "    </tr>\n",
       "    <tr>\n",
       "      <th>3</th>\n",
       "      <td>-2.065953</td>\n",
       "      <td>-1.250675</td>\n",
       "      <td>-1.606713</td>\n",
       "      <td>-0.438529</td>\n",
       "      <td>0.438529</td>\n",
       "    </tr>\n",
       "    <tr>\n",
       "      <th>4</th>\n",
       "      <td>-0.049633</td>\n",
       "      <td>-0.671850</td>\n",
       "      <td>-0.035342</td>\n",
       "      <td>-0.438529</td>\n",
       "      <td>0.438529</td>\n",
       "    </tr>\n",
       "  </tbody>\n",
       "</table>\n",
       "</div>"
      ],
      "text/plain": [
       "   number of customer  temperature  ice cream sales  election    normal\n",
       "0            0.000000    -0.961263         0.104336 -0.438529  0.438529\n",
       "1            0.111673    -0.671850        -0.642066 -0.438529  0.438529\n",
       "2            1.684403    -0.961263         0.056322 -0.438529  0.438529\n",
       "3           -2.065953    -1.250675        -1.606713 -0.438529  0.438529\n",
       "4           -0.049633    -0.671850        -0.035342 -0.438529  0.438529"
      ]
     },
     "execution_count": 8,
     "metadata": {},
     "output_type": "execute_result"
    }
   ],
   "source": [
    "df.head()"
   ]
  },
  {
   "cell_type": "markdown",
   "metadata": {},
   "source": [
    "## Step 5: Save the Cleaned Data\n",
    "\n",
    "1. **Create an Output Folder**: It’s always a good idea to keep your files organized. If the folder for saving outputs doesn’t exist, make sure to create it first.\n",
    "\n",
    "   **Hint**: There's a method in Python for creating directories, but make sure you check if it exists before creating it.\n",
    "\n",
    "2. **Save the Cleaned Dataset**: After cleaning and processing the data, save it as an Excel file with the name `small-store-sales-clean.xlsx` inside the output folder.\n",
    "\n",
    "   **Hint**: Pandas can write DataFrames to Excel files with a specific function.\n",
    "\n",
    "3. **Verify the Output**: Once you’ve run the code, check the folder to confirm that the file was saved correctly.\n",
    "\n",
    "   **Hint**: It’s good to manually check the folder in your project directory to see if the file appears as expected."
   ]
  },
  {
   "cell_type": "code",
   "execution_count": 9,
   "metadata": {},
   "outputs": [],
   "source": [
    "df.to_excel(\"output/small-store-sales-clean.xlsx\")"
   ]
  }
 ],
 "metadata": {
  "kernelspec": {
   "display_name": "ml",
   "language": "python",
   "name": "python3"
  },
  "language_info": {
   "codemirror_mode": {
    "name": "ipython",
    "version": 3
   },
   "file_extension": ".py",
   "mimetype": "text/x-python",
   "name": "python",
   "nbconvert_exporter": "python",
   "pygments_lexer": "ipython3",
   "version": "3.12.2"
  }
 },
 "nbformat": 4,
 "nbformat_minor": 2
}
