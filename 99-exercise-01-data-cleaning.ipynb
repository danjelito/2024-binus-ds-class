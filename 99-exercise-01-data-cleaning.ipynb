{
 "cells": [
  {
   "cell_type": "markdown",
   "metadata": {},
   "source": [
    "# Basic Data Cleaning for Machine Learning\n",
    "\n",
    "In this exercise, you'll work with a dataset containing four features: date, number of customers, condition and temperature, and one label: number of ice cream sales. You'll practice importing the dataset, cleaning the data, handling missing values, encoding categorical variables, and standardizing the data using Pandas."
   ]
  },
  {
   "cell_type": "markdown",
   "metadata": {},
   "source": [
    "## Step 1: Download and Load the Dataset\n",
    "\n",
    "1. **Download the Dataset**: Ensure that the Excel file you are working with includes the following columns: `date`, `number of customers`, `temperature`, `condition`, and `number of ice cream sales`.\n",
    "\n",
    "   **Hint**: You should have an Excel file prepared and saved in the correct format before starting the hands-on exercise.\n",
    "\n",
    "2. **Load the Dataset** using Pandas. Import the data into a DataFrame so you can work with it.\n",
    "\n",
    "   **Hint**: Pandas has a function to read Excel files directly into DataFrames. "
   ]
  },
  {
   "cell_type": "markdown",
   "metadata": {},
   "source": [
    "## Step 2: Cleaning the Data\n",
    "\n",
    "1. Check for missing values in the dataset. Before moving forward, identify which values are missing and in which columns.\n",
    "\n",
    "Hint: Pandas has a function that helps you detect missing values in your dataset.\n",
    "\n",
    "2. Handle the missing values accordingly:\n",
    "\n",
    "    - For numerical data, fill the missing values with the average value of the column.\n",
    "    - For categorical data, fill the missing values with the most frequently occurring value in the column.\n",
    "\n",
    "Hint: Pandas provides functions to fill missing values with a specific value or a calculation like mean or mode."
   ]
  },
  {
   "cell_type": "markdown",
   "metadata": {},
   "source": [
    "## Step 3: Encoding Categorical Variables\n",
    "\n",
    "1. There is one categorical variable in the dataset. Encode this variable to make it usable in your analysis. Machine learning algorithms work with numerical values, so you'll need to convert this categorical variable into a numerical format.\n",
    "\n",
    "You can use a function in Pandas that transforms a categorical column into multiple binary (0 or 1) columns.\n",
    "\n",
    "Hint: Look for a Pandas method that \"expands\" categories into separate columns, with each representing one category."
   ]
  },
  {
   "cell_type": "markdown",
   "metadata": {},
   "source": [
    "## Step 4: Standardizing the Data\n",
    "\n",
    "1. Scale the numerical features so that they are in the same range. This is important because machine learning algorithms may perform better when features have similar scales.\n",
    "\n",
    "You can use a scaler from the sklearn.preprocessing module to standardize numerical features. Look for a method that ensures your data has a mean of 0 and a standard deviation of 1.\n",
    "\n",
    "Hint: Remember to fit the scaler on the numerical columns and then transform them before continuing to the next step."
   ]
  },
  {
   "cell_type": "markdown",
   "metadata": {},
   "source": [
    "## Step 5: Save the Cleaned Data\n",
    "\n",
    "1. **Create an Output Folder**: It’s always a good idea to keep your files organized. If the folder for saving outputs doesn’t exist, make sure to create it first.\n",
    "\n",
    "   **Hint**: There's a method in Python for creating directories, but make sure you check if it exists before creating it.\n",
    "\n",
    "2. **Save the Cleaned Dataset**: After cleaning and processing the data, save it as an Excel file with the name `small-store-sales-clean.xlsx` inside the output folder.\n",
    "\n",
    "   **Hint**: Pandas can write DataFrames to Excel files with a specific function.\n",
    "\n",
    "3. **Verify the Output**: Once you’ve run the code, check the folder to confirm that the file was saved correctly.\n",
    "\n",
    "   **Hint**: It’s good to manually check the folder in your project directory to see if the file appears as expected."
   ]
  }
 ],
 "metadata": {
  "language_info": {
   "name": "python"
  }
 },
 "nbformat": 4,
 "nbformat_minor": 2
}
