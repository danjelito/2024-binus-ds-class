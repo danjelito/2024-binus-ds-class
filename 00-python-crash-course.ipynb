{
 "cells": [
  {
   "cell_type": "markdown",
   "metadata": {},
   "source": [
    "# Python Crash Course\n",
    "\n",
    "Welcome to this Python crash course! We'll cover essential topics step by step. By the end, you'll understand Python basics and be ready to dive deeper into programming.\n",
    "\n",
    "## Topics Covered\n",
    "\n",
    "1.  Basic Python Syntax\n",
    "\n",
    "2.  Python Operators\n",
    "\n",
    "3.  Python Data Types\n",
    "\n",
    "4.  Python Data Structures\n",
    "\n",
    "5.  Python Control Flow\n",
    "\n",
    "6.  Loops in Python\n",
    "\n",
    "7.  Python Functions\n",
    "\n",
    "8.  Python Standard Libraries\n",
    "\n",
    "9.  Python Error Handling\n",
    "\n",
    "10. Python Generators\n",
    "\n",
    "11. File Handling in Python\n"
   ]
  },
  {
   "cell_type": "markdown",
   "metadata": {},
   "source": [
    "## 1. Basic Python Syntax\n",
    "\n",
    "Python is easy to read because its syntax is simple and intuitive. Indentation matters in Python.\n",
    "\n",
    "**Example:**\n"
   ]
  },
  {
   "cell_type": "code",
   "execution_count": 52,
   "metadata": {},
   "outputs": [
    {
     "name": "stdout",
     "output_type": "stream",
     "text": [
      "Hello, World!\n"
     ]
    }
   ],
   "source": [
    "# This is how you define a simple function and call it.\n",
    "def say_hello():\n",
    "    print(\"Hello, World!\")\n",
    "\n",
    "\n",
    "say_hello()"
   ]
  },
  {
   "cell_type": "markdown",
   "metadata": {},
   "source": [
    "## 2. Python Operators\n",
    "\n",
    "Python provides many operators to perform different tasks. Some of the most common are:\n",
    "\n",
    "- **Arithmetic operators** (`+`, `-`, `*`, `/`)\n",
    "\n",
    "- **Comparison operators** (`==`, `!=`, `>`, `<`)\n",
    "\n",
    "- **Logical operators** (`and`, `or`, `not`)\n",
    "\n",
    "**Example:**\n"
   ]
  },
  {
   "cell_type": "code",
   "execution_count": 53,
   "metadata": {},
   "outputs": [
    {
     "name": "stdout",
     "output_type": "stream",
     "text": [
      "Addition: 15\n",
      "Division: 2.0\n",
      "Is x greater than y? True\n",
      "x > 0 and y > 0: True\n"
     ]
    }
   ],
   "source": [
    "x = 10\n",
    "y = 5\n",
    "\n",
    "# Arithmetic\n",
    "print(\"Addition:\", x + y)\n",
    "print(\"Division:\", x / y)\n",
    "\n",
    "# Comparison\n",
    "print(\"Is x greater than y?\", x > y)\n",
    "\n",
    "# Logical\n",
    "print(\"x > 0 and y > 0:\", x > 0 and y > 0)"
   ]
  },
  {
   "cell_type": "markdown",
   "metadata": {},
   "source": [
    "## 3. Python Data Types\n",
    "\n",
    "Python supports several data types:\n",
    "\n",
    "- **int**: Whole numbers (e.g., 1, 2, 3)\n",
    "\n",
    "- **float**: Numbers with decimal points (e.g., 3.14)\n",
    "\n",
    "- **str**: Text or strings (e.g., \"hello\")\n",
    "\n",
    "- **bool**: Boolean values (`True`, `False`)\n",
    "\n",
    "**Example:**\n"
   ]
  },
  {
   "cell_type": "code",
   "execution_count": 54,
   "metadata": {},
   "outputs": [
    {
     "name": "stdout",
     "output_type": "stream",
     "text": [
      "Name (str): Alice\n",
      "Age (int): 25\n",
      "PI value (float): 3.14\n",
      "Is student? (bool) True\n"
     ]
    }
   ],
   "source": [
    "name = \"Alice\"\n",
    "age = 25\n",
    "pi = 3.14\n",
    "is_student = True\n",
    "\n",
    "print(\"Name (str):\", name)\n",
    "print(\"Age (int):\", age)\n",
    "print(\"PI value (float):\", pi)\n",
    "print(\"Is student? (bool)\", is_student)"
   ]
  },
  {
   "cell_type": "markdown",
   "metadata": {},
   "source": [
    "## 4. Python Data Structures\n",
    "\n",
    "Data structures allow you to store multiple values. The most common are:\n",
    "\n",
    "- **Lists**: Ordered and mutable (`[1, 2, 3]`)\n",
    "\n",
    "- **Tuples**: Ordered and immutable (`(1, 2, 3)`)\n",
    "\n",
    "- **Dictionaries**: Key-value pairs (`{'name': 'Alice', 'age': 25}`)\n",
    "\n",
    "- **Sets**: Unordered collections of unique elements (`{1, 2, 3}`)\n",
    "\n",
    "**Example:**\n"
   ]
  },
  {
   "cell_type": "code",
   "execution_count": 55,
   "metadata": {},
   "outputs": [
    {
     "name": "stdout",
     "output_type": "stream",
     "text": [
      "List: ['apple', 'banana', 'cherry']\n",
      "Dictionary: {'name': 'Alice', 'age': 25}\n",
      "Set: {1, 2, 3}\n"
     ]
    }
   ],
   "source": [
    "# List\n",
    "fruits = [\"apple\", \"banana\", \"cherry\"]\n",
    "print(\"List:\", fruits)\n",
    "\n",
    "# Dictionary\n",
    "student = {\"name\": \"Alice\", \"age\": 25}\n",
    "print(\"Dictionary:\", student)\n",
    "\n",
    "# Set\n",
    "numbers = {1, 2, 3}\n",
    "print(\"Set:\", numbers)"
   ]
  },
  {
   "cell_type": "markdown",
   "metadata": {},
   "source": [
    "A list is an ordered collection of items. You can retrieve elements by using their index (starting from 0)."
   ]
  },
  {
   "cell_type": "code",
   "execution_count": 56,
   "metadata": {},
   "outputs": [
    {
     "data": {
      "text/plain": [
       "10"
      ]
     },
     "execution_count": 56,
     "metadata": {},
     "output_type": "execute_result"
    }
   ],
   "source": [
    "my_list = [10, 20, 30, 40]\n",
    "\n",
    "# Accessing an element by index\n",
    "first_element = my_list[0]  # Output: 10\n",
    "first_element"
   ]
  },
  {
   "cell_type": "markdown",
   "metadata": {},
   "source": [
    "A dictionary is a collection of key-value pairs. You can retrieve an element from a dictionary by using its key."
   ]
  },
  {
   "cell_type": "code",
   "execution_count": 57,
   "metadata": {},
   "outputs": [
    {
     "data": {
      "text/plain": [
       "'Alice'"
      ]
     },
     "execution_count": 57,
     "metadata": {},
     "output_type": "execute_result"
    }
   ],
   "source": [
    "my_dict = {\"name\": \"Alice\", \"age\": 25, \"city\": \"New York\"}\n",
    "\n",
    "# Accessing an element using a key\n",
    "name = my_dict[\"name\"]  # Output: \"Alice\"\n",
    "name"
   ]
  },
  {
   "cell_type": "markdown",
   "metadata": {},
   "source": [
    "A set is an unordered collection of unique elements. You cannot access elements by index since sets do not maintain order. However, you can check for membership using the in keyword."
   ]
  },
  {
   "cell_type": "code",
   "execution_count": 58,
   "metadata": {},
   "outputs": [
    {
     "name": "stdout",
     "output_type": "stream",
     "text": [
      "True\n"
     ]
    }
   ],
   "source": [
    "my_set = {1, 2, 3, 4}\n",
    "\n",
    "# Check if an element is in the set\n",
    "print(3 in my_set)  # Output: True"
   ]
  },
  {
   "cell_type": "markdown",
   "metadata": {},
   "source": [
    "## 5. Python Control Flow\n",
    "\n",
    "Control flow allows you to decide which code to execute based on conditions. Python uses `if`, `elif`, and `else` statements.\n",
    "\n",
    "**Example:**\n"
   ]
  },
  {
   "cell_type": "code",
   "execution_count": 59,
   "metadata": {},
   "outputs": [
    {
     "name": "stdout",
     "output_type": "stream",
     "text": [
      "x is greater than 5\n"
     ]
    }
   ],
   "source": [
    "x = 10\n",
    "\n",
    "if x > 5:\n",
    "    print(\"x is greater than 5\")\n",
    "elif x == 5:\n",
    "    print(\"x is equal to 5\")\n",
    "else:\n",
    "    print(\"x is less than 5\")"
   ]
  },
  {
   "cell_type": "markdown",
   "metadata": {},
   "source": [
    "## 6. Loops in Python\n",
    "\n",
    "Loops let you repeat code. Python has two types of loops: `for` and `while`.\n",
    "\n",
    "**Example:**\n"
   ]
  },
  {
   "cell_type": "code",
   "execution_count": 60,
   "metadata": {},
   "outputs": [
    {
     "name": "stdout",
     "output_type": "stream",
     "text": [
      "apple\n",
      "banana\n",
      "cherry\n"
     ]
    }
   ],
   "source": [
    "# For loop\n",
    "fruits = [\"apple\", \"banana\", \"cherry\"]\n",
    "for fruit in fruits:\n",
    "    print(fruit)"
   ]
  },
  {
   "cell_type": "code",
   "execution_count": 61,
   "metadata": {},
   "outputs": [
    {
     "name": "stdout",
     "output_type": "stream",
     "text": [
      "Count: 0\n",
      "Count: 1\n",
      "Count: 2\n"
     ]
    }
   ],
   "source": [
    "# While loop\n",
    "count = 0\n",
    "while count < 3:\n",
    "    print(\"Count:\", count)\n",
    "    count += 1"
   ]
  },
  {
   "cell_type": "markdown",
   "metadata": {},
   "source": [
    "## 7. Python Functions\n",
    "\n",
    "Functions help you reuse code. You define a function using `def` and call it by its name.\n",
    "\n",
    "**Example:**\n"
   ]
  },
  {
   "cell_type": "code",
   "execution_count": 62,
   "metadata": {},
   "outputs": [
    {
     "name": "stdout",
     "output_type": "stream",
     "text": [
      "Result: 7\n"
     ]
    }
   ],
   "source": [
    "def add_numbers(a, b):\n",
    "    return a + b\n",
    "\n",
    "\n",
    "result = add_numbers(3, 4)\n",
    "print(\"Result:\", result)"
   ]
  },
  {
   "cell_type": "markdown",
   "metadata": {},
   "source": [
    "Arguments (or parameters) are the values that you can pass to a function to give it input. The function can then use these inputs to perform actions."
   ]
  },
  {
   "cell_type": "code",
   "execution_count": 63,
   "metadata": {},
   "outputs": [
    {
     "name": "stdout",
     "output_type": "stream",
     "text": [
      "Hello, Jason!\n"
     ]
    }
   ],
   "source": [
    "def greet(name):\n",
    "    print(f\"Hello, {name}!\")\n",
    "\n",
    "greet(\"Jason\")"
   ]
  },
  {
   "cell_type": "markdown",
   "metadata": {},
   "source": [
    "Here, name is an argument that you pass to the greet() function when calling it."
   ]
  },
  {
   "cell_type": "markdown",
   "metadata": {},
   "source": [
    "## 8. Python Standard Libraries\n",
    "\n",
    "Python has many built-in libraries. Some popular ones are:\n",
    "\n",
    "- `math`: Provides mathematical functions.\n",
    "\n",
    "- `random`: Generates random numbers.\n",
    "\n",
    "- `datetime`: Deals with dates and times.\n",
    "\n",
    "**Example:**\n"
   ]
  },
  {
   "cell_type": "code",
   "execution_count": 64,
   "metadata": {},
   "outputs": [
    {
     "name": "stdout",
     "output_type": "stream",
     "text": [
      "Square root of 16: 4.0\n",
      "Random number between 1 and 10: 2\n",
      "Today's date: 2024-10-10 19:48:17.335043\n"
     ]
    }
   ],
   "source": [
    "import math\n",
    "import random\n",
    "import datetime\n",
    "\n",
    "print(\"Square root of 16:\", math.sqrt(16))\n",
    "print(\"Random number between 1 and 10:\", random.randint(1, 10))\n",
    "print(\"Today's date:\", datetime.datetime.now())"
   ]
  },
  {
   "cell_type": "markdown",
   "metadata": {},
   "source": [
    "## 9. Python Error Handling\n",
    "\n",
    "Errors can occur in your code. Python uses `try`, `except` to handle errors and prevent your program from crashing.\n",
    "\n",
    "**Example:**\n"
   ]
  },
  {
   "cell_type": "code",
   "execution_count": 65,
   "metadata": {},
   "outputs": [
    {
     "name": "stdout",
     "output_type": "stream",
     "text": [
      "You can't divide by zero!\n"
     ]
    }
   ],
   "source": [
    "try:\n",
    "    result = 10 / 0\n",
    "except ZeroDivisionError:\n",
    "    print(\"You can't divide by zero!\")"
   ]
  },
  {
   "cell_type": "markdown",
   "metadata": {},
   "source": [
    "## 10. Python Generators\n",
    "\n",
    "Generators allow you to iterate over large sequences efficiently. You create a generator using the `yield` keyword instead of `return`.\n",
    "\n",
    "**Example:**\n"
   ]
  },
  {
   "cell_type": "code",
   "execution_count": 66,
   "metadata": {},
   "outputs": [
    {
     "name": "stdout",
     "output_type": "stream",
     "text": [
      "1\n",
      "2\n",
      "3\n",
      "4\n",
      "5\n"
     ]
    }
   ],
   "source": [
    "def count_up_to(max_value):\n",
    "    count = 1\n",
    "    while count <= max_value:\n",
    "        yield count\n",
    "        count += 1\n",
    "\n",
    "\n",
    "for number in count_up_to(5):\n",
    "    print(number)"
   ]
  },
  {
   "cell_type": "markdown",
   "metadata": {},
   "source": [
    "## 11. File Handling in Python\n",
    "\n",
    "Python allows you to work with files easily. You can open, read, write, and close files using the `open()` function.\n",
    "\n",
    "**Example:**\n"
   ]
  },
  {
   "cell_type": "code",
   "execution_count": 67,
   "metadata": {},
   "outputs": [
    {
     "name": "stdout",
     "output_type": "stream",
     "text": [
      "Hello, World!\n"
     ]
    }
   ],
   "source": [
    "# Open a file and write to it\n",
    "with open(\"output/sample.txt\", \"w\") as file:\n",
    "    file.write(\"Hello, World!\")\n",
    "\n",
    "# Read the file content\n",
    "with open(\"output/sample.txt\", \"r\") as file:\n",
    "    content = file.read()\n",
    "\n",
    "print(content)"
   ]
  },
  {
   "cell_type": "markdown",
   "metadata": {},
   "source": [
    "## Conclusion\n",
    "\n",
    "This crash course covered:\n",
    "\n",
    "- Basic Python Syntax\n",
    "\n",
    "- Python Operators\n",
    "\n",
    "- Python Data Types and Data Structures\n",
    "\n",
    "- Control Flow and Loops\n",
    "\n",
    "- Functions, Libraries, Error Handling, Generators, and File Handling\n",
    "\n",
    "This is just the beginning—there's so much more to explore in Python! Keep practicing to improve your skills.\n"
   ]
  }
 ],
 "metadata": {
  "kernelspec": {
   "display_name": "data-science",
   "language": "python",
   "name": "python3"
  },
  "language_info": {
   "codemirror_mode": {
    "name": "ipython",
    "version": 3
   },
   "file_extension": ".py",
   "mimetype": "text/x-python",
   "name": "python",
   "nbconvert_exporter": "python",
   "pygments_lexer": "ipython3",
   "version": "3.12.2"
  }
 },
 "nbformat": 4,
 "nbformat_minor": 2
}
