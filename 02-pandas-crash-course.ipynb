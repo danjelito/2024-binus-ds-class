{
 "cells": [
  {
   "cell_type": "markdown",
   "metadata": {},
   "source": [
    "# Pandas Crash Course\n",
    "\n",
    "Welcome to this crash course on **pandas**, one of the most powerful libraries for data manipulation in Python. By the end of this course, you'll understand the basics of pandas and be able to use it to load, explore, and manipulate datasets.\n",
    "\n",
    "## Topics Covered\n",
    "\n",
    "1.  Introduction to Pandas\n",
    "\n",
    "2.  Pandas Data Structures (Series and DataFrame)\n",
    "\n",
    "3.  Loading Data into Pandas\n",
    "\n",
    "4.  Inspecting Data\n",
    "\n",
    "5.  Selecting Data\n",
    "\n",
    "6.  Data Manipulation (Adding/Removing Columns)\n",
    "\n",
    "7.  Filtering Data\n",
    "\n",
    "8.  Handling Missing Data\n",
    "\n",
    "9.  Grouping and Aggregating Data\n",
    "\n",
    "10. Sorting Data\n",
    "\n",
    "11. Applying Functions to Data\n",
    "\n",
    "12. Loading Files with Pandas"
   ]
  },
  {
   "cell_type": "markdown",
   "metadata": {},
   "source": [
    "## 1. Introduction to Pandas\n",
    "\n",
    "Pandas is a Python library used for working with data. It makes data analysis and manipulation easy by providing powerful, flexible data structures and functions.\n",
    "\n",
    "To use pandas, you first need to import it:\n",
    "\n",
    "```python\n",
    "\n",
    "import pandas as pd\n",
    "\n",
    "```\n",
    "\n",
    "In pandas, data is primarily handled using **Series** and **DataFrames**.\n"
   ]
  },
  {
   "cell_type": "markdown",
   "metadata": {},
   "source": [
    "## 2. Pandas Data Structures: Series and DataFrame\n",
    "\n",
    "### **Series**:\n",
    "\n",
    "A **Series** is a one-dimensional array of data. You can think of it like a list but with additional features like indexing.\n",
    "\n",
    "**Example**:\n"
   ]
  },
  {
   "cell_type": "code",
   "execution_count": 54,
   "metadata": {},
   "outputs": [
    {
     "name": "stdout",
     "output_type": "stream",
     "text": [
      "Series:\n",
      "0    1\n",
      "1    2\n",
      "2    3\n",
      "3    4\n",
      "4    5\n",
      "dtype: int64\n"
     ]
    }
   ],
   "source": [
    "import pandas as pd\n",
    "\n",
    "# Creating a Series\n",
    "data = [1, 2, 3, 4, 5]\n",
    "series = pd.Series(data)\n",
    "print(\"Series:\")\n",
    "print(series)"
   ]
  },
  {
   "cell_type": "markdown",
   "metadata": {},
   "source": [
    "### **DataFrame**:\n",
    "\n",
    "A **DataFrame** is a two-dimensional table of data. It's the most commonly used data structure in pandas.\n",
    "\n",
    "**Example**:\n"
   ]
  },
  {
   "cell_type": "code",
   "execution_count": 55,
   "metadata": {},
   "outputs": [
    {
     "name": "stdout",
     "output_type": "stream",
     "text": [
      "DataFrame:\n",
      "      Name  Age         City\n",
      "0    Alice   25     New York\n",
      "1      Bob   30  Los Angeles\n",
      "2  Charlie   35      Chicago\n"
     ]
    }
   ],
   "source": [
    "# Creating a DataFrame\n",
    "data = {\n",
    "    \"Name\": [\"Alice\", \"Bob\", \"Charlie\"],\n",
    "    \"Age\": [25, 30, 35],\n",
    "    \"City\": [\"New York\", \"Los Angeles\", \"Chicago\"],\n",
    "}\n",
    "df = pd.DataFrame(data)\n",
    "print(\"DataFrame:\")\n",
    "print(df)"
   ]
  },
  {
   "cell_type": "markdown",
   "metadata": {},
   "source": [
    "## 3. Loading Data into Pandas\n",
    "\n",
    "You can load data from various sources into a pandas DataFrame. The most common format is a **CSV file**.\n",
    "\n",
    "**Example**:\n"
   ]
  },
  {
   "cell_type": "code",
   "execution_count": 56,
   "metadata": {},
   "outputs": [
    {
     "data": {
      "text/html": [
       "<div>\n",
       "<style scoped>\n",
       "    .dataframe tbody tr th:only-of-type {\n",
       "        vertical-align: middle;\n",
       "    }\n",
       "\n",
       "    .dataframe tbody tr th {\n",
       "        vertical-align: top;\n",
       "    }\n",
       "\n",
       "    .dataframe thead th {\n",
       "        text-align: right;\n",
       "    }\n",
       "</style>\n",
       "<table border=\"1\" class=\"dataframe\">\n",
       "  <thead>\n",
       "    <tr style=\"text-align: right;\">\n",
       "      <th></th>\n",
       "      <th>Name</th>\n",
       "      <th>Age</th>\n",
       "      <th>City</th>\n",
       "    </tr>\n",
       "  </thead>\n",
       "  <tbody>\n",
       "    <tr>\n",
       "      <th>0</th>\n",
       "      <td>Alice</td>\n",
       "      <td>25</td>\n",
       "      <td>New York</td>\n",
       "    </tr>\n",
       "    <tr>\n",
       "      <th>1</th>\n",
       "      <td>Bob</td>\n",
       "      <td>30</td>\n",
       "      <td>Los Angeles</td>\n",
       "    </tr>\n",
       "    <tr>\n",
       "      <th>2</th>\n",
       "      <td>Charlie</td>\n",
       "      <td>35</td>\n",
       "      <td>Chicago</td>\n",
       "    </tr>\n",
       "  </tbody>\n",
       "</table>\n",
       "</div>"
      ],
      "text/plain": [
       "      Name  Age         City\n",
       "0    Alice   25     New York\n",
       "1      Bob   30  Los Angeles\n",
       "2  Charlie   35      Chicago"
      ]
     },
     "execution_count": 56,
     "metadata": {},
     "output_type": "execute_result"
    }
   ],
   "source": [
    "# Loading data from a CSV file\n",
    "# df = pd.read_csv(\"your_file.csv\")  # Uncomment this line to load your own file\n",
    "\n",
    "# For demonstration, we'll create a small DataFrame instead.\n",
    "df = pd.DataFrame(\n",
    "    {\n",
    "        \"Name\": [\"Alice\", \"Bob\", \"Charlie\"],\n",
    "        \"Age\": [25, 30, 35],\n",
    "        \"City\": [\"New York\", \"Los Angeles\", \"Chicago\"],\n",
    "    }\n",
    ")\n",
    "df"
   ]
  },
  {
   "cell_type": "markdown",
   "metadata": {},
   "source": [
    "## 4. Inspecting Data\n",
    "\n",
    "After loading data, it's important to inspect it. Pandas provides several useful functions:\n",
    "\n",
    "- `.head()`: Shows the first few rows of the DataFrame.\n",
    "\n",
    "- `.info()`: Shows information about the DataFrame, such as column names and data types.\n",
    "\n",
    "- `.describe()`: Shows statistical summary of numerical columns.\n",
    "\n",
    "**Example**:\n"
   ]
  },
  {
   "cell_type": "code",
   "execution_count": 57,
   "metadata": {},
   "outputs": [
    {
     "name": "stdout",
     "output_type": "stream",
     "text": [
      "First 5 rows:\n"
     ]
    },
    {
     "data": {
      "text/html": [
       "<div>\n",
       "<style scoped>\n",
       "    .dataframe tbody tr th:only-of-type {\n",
       "        vertical-align: middle;\n",
       "    }\n",
       "\n",
       "    .dataframe tbody tr th {\n",
       "        vertical-align: top;\n",
       "    }\n",
       "\n",
       "    .dataframe thead th {\n",
       "        text-align: right;\n",
       "    }\n",
       "</style>\n",
       "<table border=\"1\" class=\"dataframe\">\n",
       "  <thead>\n",
       "    <tr style=\"text-align: right;\">\n",
       "      <th></th>\n",
       "      <th>Name</th>\n",
       "      <th>Age</th>\n",
       "      <th>City</th>\n",
       "    </tr>\n",
       "  </thead>\n",
       "  <tbody>\n",
       "    <tr>\n",
       "      <th>0</th>\n",
       "      <td>Alice</td>\n",
       "      <td>25</td>\n",
       "      <td>New York</td>\n",
       "    </tr>\n",
       "    <tr>\n",
       "      <th>1</th>\n",
       "      <td>Bob</td>\n",
       "      <td>30</td>\n",
       "      <td>Los Angeles</td>\n",
       "    </tr>\n",
       "    <tr>\n",
       "      <th>2</th>\n",
       "      <td>Charlie</td>\n",
       "      <td>35</td>\n",
       "      <td>Chicago</td>\n",
       "    </tr>\n",
       "  </tbody>\n",
       "</table>\n",
       "</div>"
      ],
      "text/plain": [
       "      Name  Age         City\n",
       "0    Alice   25     New York\n",
       "1      Bob   30  Los Angeles\n",
       "2  Charlie   35      Chicago"
      ]
     },
     "execution_count": 57,
     "metadata": {},
     "output_type": "execute_result"
    }
   ],
   "source": [
    "# First 5 rows\n",
    "print(\"First 5 rows:\")\n",
    "df.head()"
   ]
  },
  {
   "cell_type": "code",
   "execution_count": 58,
   "metadata": {},
   "outputs": [
    {
     "name": "stdout",
     "output_type": "stream",
     "text": [
      "\n",
      "DataFrame Info:\n",
      "<class 'pandas.core.frame.DataFrame'>\n",
      "RangeIndex: 3 entries, 0 to 2\n",
      "Data columns (total 3 columns):\n",
      " #   Column  Non-Null Count  Dtype \n",
      "---  ------  --------------  ----- \n",
      " 0   Name    3 non-null      object\n",
      " 1   Age     3 non-null      int64 \n",
      " 2   City    3 non-null      object\n",
      "dtypes: int64(1), object(2)\n",
      "memory usage: 204.0+ bytes\n"
     ]
    }
   ],
   "source": [
    "# Summary of DataFrame\n",
    "print(\"\\nDataFrame Info:\")\n",
    "df.info()"
   ]
  },
  {
   "cell_type": "code",
   "execution_count": 59,
   "metadata": {},
   "outputs": [
    {
     "name": "stdout",
     "output_type": "stream",
     "text": [
      "\n",
      "Statistical Summary:\n"
     ]
    },
    {
     "data": {
      "text/html": [
       "<div>\n",
       "<style scoped>\n",
       "    .dataframe tbody tr th:only-of-type {\n",
       "        vertical-align: middle;\n",
       "    }\n",
       "\n",
       "    .dataframe tbody tr th {\n",
       "        vertical-align: top;\n",
       "    }\n",
       "\n",
       "    .dataframe thead th {\n",
       "        text-align: right;\n",
       "    }\n",
       "</style>\n",
       "<table border=\"1\" class=\"dataframe\">\n",
       "  <thead>\n",
       "    <tr style=\"text-align: right;\">\n",
       "      <th></th>\n",
       "      <th>Age</th>\n",
       "    </tr>\n",
       "  </thead>\n",
       "  <tbody>\n",
       "    <tr>\n",
       "      <th>count</th>\n",
       "      <td>3.0</td>\n",
       "    </tr>\n",
       "    <tr>\n",
       "      <th>mean</th>\n",
       "      <td>30.0</td>\n",
       "    </tr>\n",
       "    <tr>\n",
       "      <th>std</th>\n",
       "      <td>5.0</td>\n",
       "    </tr>\n",
       "    <tr>\n",
       "      <th>min</th>\n",
       "      <td>25.0</td>\n",
       "    </tr>\n",
       "    <tr>\n",
       "      <th>25%</th>\n",
       "      <td>27.5</td>\n",
       "    </tr>\n",
       "    <tr>\n",
       "      <th>50%</th>\n",
       "      <td>30.0</td>\n",
       "    </tr>\n",
       "    <tr>\n",
       "      <th>75%</th>\n",
       "      <td>32.5</td>\n",
       "    </tr>\n",
       "    <tr>\n",
       "      <th>max</th>\n",
       "      <td>35.0</td>\n",
       "    </tr>\n",
       "  </tbody>\n",
       "</table>\n",
       "</div>"
      ],
      "text/plain": [
       "        Age\n",
       "count   3.0\n",
       "mean   30.0\n",
       "std     5.0\n",
       "min    25.0\n",
       "25%    27.5\n",
       "50%    30.0\n",
       "75%    32.5\n",
       "max    35.0"
      ]
     },
     "execution_count": 59,
     "metadata": {},
     "output_type": "execute_result"
    }
   ],
   "source": [
    "# Statistical summary\n",
    "print(\"\\nStatistical Summary:\")\n",
    "df.describe()"
   ]
  },
  {
   "cell_type": "markdown",
   "metadata": {},
   "source": [
    "## 5. Selecting Data\n",
    "\n",
    "Selecting data in pandas can be done using square brackets `[]`, `.loc[]`, or `.iloc[]`.\n",
    "\n",
    "**Example**:\n"
   ]
  },
  {
   "cell_type": "code",
   "execution_count": 60,
   "metadata": {},
   "outputs": [
    {
     "name": "stdout",
     "output_type": "stream",
     "text": [
      "Selecting 'Name' column:\n",
      "0      Alice\n",
      "1        Bob\n",
      "2    Charlie\n",
      "Name: Name, dtype: object\n",
      "\n",
      "Selecting 'Name' and 'Age' columns:\n",
      "      Name  Age\n",
      "0    Alice   25\n",
      "1      Bob   30\n",
      "2  Charlie   35\n",
      "\n",
      "Selecting first row (by index):\n",
      "Name       Alice\n",
      "Age           25\n",
      "City    New York\n",
      "Name: 0, dtype: object\n",
      "\n",
      "Selecting first row (by position):\n",
      "Name       Alice\n",
      "Age           25\n",
      "City    New York\n",
      "Name: 0, dtype: object\n"
     ]
    }
   ],
   "source": [
    "# Selecting a single column\n",
    "print(\"Selecting 'Name' column:\")\n",
    "print(df[\"Name\"])\n",
    "\n",
    "# Selecting multiple columns\n",
    "print(\"\\nSelecting 'Name' and 'Age' columns:\")\n",
    "print(df[[\"Name\", \"Age\"]])\n",
    "\n",
    "# Selecting rows by index using .loc[] and .iloc[]\n",
    "print(\"\\nSelecting first row (by index):\")\n",
    "print(df.loc[0])  # loc uses label-based indexing\n",
    "\n",
    "print(\"\\nSelecting first row (by position):\")\n",
    "print(df.iloc[0])  # iloc uses position-based indexing"
   ]
  },
  {
   "cell_type": "markdown",
   "metadata": {},
   "source": [
    "## 6. Data Manipulation (Adding/Removing Columns)\n",
    "\n",
    "You can easily add or remove columns in a DataFrame.\n",
    "\n",
    "**Example**:\n"
   ]
  },
  {
   "cell_type": "code",
   "execution_count": 61,
   "metadata": {},
   "outputs": [
    {
     "name": "stdout",
     "output_type": "stream",
     "text": [
      "DataFrame after adding 'Salary' column:\n",
      "      Name  Age         City  Salary\n",
      "0    Alice   25     New York   50000\n",
      "1      Bob   30  Los Angeles   60000\n",
      "2  Charlie   35      Chicago   70000\n",
      "\n",
      "DataFrame after removing 'Salary' column:\n",
      "      Name  Age         City\n",
      "0    Alice   25     New York\n",
      "1      Bob   30  Los Angeles\n",
      "2  Charlie   35      Chicago\n"
     ]
    }
   ],
   "source": [
    "# Adding a new column\n",
    "df[\"Salary\"] = [50000, 60000, 70000]\n",
    "print(\"DataFrame after adding 'Salary' column:\")\n",
    "print(df)\n",
    "\n",
    "# Removing a column\n",
    "df = df.drop(columns=[\"Salary\"])\n",
    "print(\"\\nDataFrame after removing 'Salary' column:\")\n",
    "print(df)"
   ]
  },
  {
   "cell_type": "markdown",
   "metadata": {},
   "source": [
    "## 7. Filtering Data\n",
    "\n",
    "You can filter data based on conditions.\n",
    "\n",
    "**Example**:\n"
   ]
  },
  {
   "cell_type": "code",
   "execution_count": 62,
   "metadata": {},
   "outputs": [
    {
     "name": "stdout",
     "output_type": "stream",
     "text": [
      "Filtered DataFrame (Age > 30):\n",
      "      Name  Age     City\n",
      "2  Charlie   35  Chicago\n"
     ]
    }
   ],
   "source": [
    "# Filtering rows where 'Age' is greater than 30\n",
    "filtered_df = df[df[\"Age\"] > 30]\n",
    "print(\"Filtered DataFrame (Age > 30):\")\n",
    "print(filtered_df)"
   ]
  },
  {
   "cell_type": "markdown",
   "metadata": {},
   "source": [
    "## 8. Handling Missing Data\n",
    "\n",
    "Pandas provides methods to handle missing data, such as `isna()`, `dropna()`, and `fillna()`.\n",
    "\n",
    "**Example**:\n"
   ]
  },
  {
   "cell_type": "code",
   "execution_count": 63,
   "metadata": {},
   "outputs": [
    {
     "name": "stdout",
     "output_type": "stream",
     "text": [
      "DataFrame with missing values:\n",
      "    Name   Age         City\n",
      "0  Alice  25.0     New York\n",
      "1    Bob   NaN  Los Angeles\n",
      "2   None  35.0      Chicago\n",
      "\n",
      "DataFrame after filling missing values:\n",
      "      Name      Age         City\n",
      "0    Alice     25.0     New York\n",
      "1      Bob  Unknown  Los Angeles\n",
      "2  Unknown     35.0      Chicago\n",
      "\n",
      "DataFrame after dropping missing values:\n",
      "    Name   Age      City\n",
      "0  Alice  25.0  New York\n"
     ]
    }
   ],
   "source": [
    "# Creating a DataFrame with missing values\n",
    "df_with_na = pd.DataFrame(\n",
    "    {\n",
    "        \"Name\": [\"Alice\", \"Bob\", None],\n",
    "        \"Age\": [25, None, 35],\n",
    "        \"City\": [\"New York\", \"Los Angeles\", \"Chicago\"],\n",
    "    }\n",
    ")\n",
    "print(\"DataFrame with missing values:\")\n",
    "print(df_with_na)\n",
    "\n",
    "# Filling missing values with a default value\n",
    "df_filled = df_with_na.fillna(\"Unknown\")\n",
    "print(\"\\nDataFrame after filling missing values:\")\n",
    "print(df_filled)\n",
    "\n",
    "# Dropping rows with missing values\n",
    "df_dropped = df_with_na.dropna()\n",
    "print(\"\\nDataFrame after dropping missing values:\")\n",
    "print(df_dropped)"
   ]
  },
  {
   "cell_type": "markdown",
   "metadata": {},
   "source": [
    "## 9. Grouping and Aggregating Data\n",
    "\n",
    "You can group data based on certain columns and calculate aggregate values.\n",
    "\n",
    "**Example**:\n"
   ]
  },
  {
   "cell_type": "code",
   "execution_count": 64,
   "metadata": {},
   "outputs": [
    {
     "name": "stdout",
     "output_type": "stream",
     "text": [
      "Average age by city:\n",
      "City\n",
      "Chicago        35.0\n",
      "Los Angeles    30.0\n",
      "New York       25.0\n",
      "Name: Age, dtype: float64\n"
     ]
    }
   ],
   "source": [
    "# Grouping by 'City' and calculating the average age\n",
    "grouped_df = df.groupby(\"City\")[\"Age\"].mean()\n",
    "print(\"Average age by city:\")\n",
    "print(grouped_df)"
   ]
  },
  {
   "cell_type": "markdown",
   "metadata": {},
   "source": [
    "## 10. Sorting Data\n",
    "\n",
    "You can sort the data using the `.sort_values()` method.\n",
    "\n",
    "**Example**:\n"
   ]
  },
  {
   "cell_type": "code",
   "execution_count": 65,
   "metadata": {},
   "outputs": [
    {
     "name": "stdout",
     "output_type": "stream",
     "text": [
      "DataFrame sorted by 'Age':\n",
      "      Name  Age         City\n",
      "2  Charlie   35      Chicago\n",
      "1      Bob   30  Los Angeles\n",
      "0    Alice   25     New York\n"
     ]
    }
   ],
   "source": [
    "# Sorting DataFrame by 'Age' in descending order\n",
    "sorted_df = df.sort_values(by=\"Age\", ascending=False)\n",
    "print(\"DataFrame sorted by 'Age':\")\n",
    "print(sorted_df)"
   ]
  },
  {
   "cell_type": "markdown",
   "metadata": {},
   "source": [
    "## 11. Applying Functions to Data\n",
    "\n",
    "You can apply custom functions to columns or rows using `.apply()`.\n",
    "\n",
    "**Example**:\n"
   ]
  },
  {
   "cell_type": "code",
   "execution_count": 66,
   "metadata": {},
   "outputs": [
    {
     "name": "stdout",
     "output_type": "stream",
     "text": [
      "DataFrame with 'Age Category':\n",
      "      Name  Age         City Age Category\n",
      "0    Alice   25     New York        Young\n",
      "1      Bob   30  Los Angeles        Adult\n",
      "2  Charlie   35      Chicago        Adult\n"
     ]
    }
   ],
   "source": [
    "# Defining a function to categorize people by age\n",
    "def categorize_age(age):\n",
    "    if age < 30:\n",
    "        return \"Young\"\n",
    "    else:\n",
    "        return \"Adult\"\n",
    "\n",
    "\n",
    "# Applying the function to the 'Age' column\n",
    "df[\"Age Category\"] = df[\"Age\"].apply(categorize_age)\n",
    "print(\"DataFrame with 'Age Category':\")\n",
    "print(df)"
   ]
  },
  {
   "cell_type": "markdown",
   "metadata": {},
   "source": [
    "## 12. Loading Files with Pandas"
   ]
  },
  {
   "cell_type": "markdown",
   "metadata": {},
   "source": [
    "Pandas makes it very easy to load data from files, such as CSV and Excel, into a DataFrame—a powerful 2D table of data that allows you to manipulate and analyze the data."
   ]
  },
  {
   "cell_type": "markdown",
   "metadata": {},
   "source": [
    "CSV (Comma Separated Values) files are one of the most common formats for storing tabular data. In pandas, you can load a CSV file into a DataFrame using the read_csv() function."
   ]
  },
  {
   "cell_type": "code",
   "execution_count": 67,
   "metadata": {},
   "outputs": [],
   "source": [
    "# Load a CSV file into a DataFrame\n",
    "# df = pd.read_csv(\"YOUR PATH\")"
   ]
  },
  {
   "cell_type": "markdown",
   "metadata": {},
   "source": [
    "Excel files are a common format for spreadsheets. Pandas can read Excel files using the read_excel() function. You need to install the openpyxl library if it is not installed already, as pandas relies on it for reading .xlsx files."
   ]
  },
  {
   "cell_type": "code",
   "execution_count": 68,
   "metadata": {},
   "outputs": [],
   "source": [
    "# Load a Excel file into a DataFrame\n",
    "# df = pd.read_excel(\"YOUR PATH\")"
   ]
  },
  {
   "cell_type": "markdown",
   "metadata": {},
   "source": [
    "If the Excel file has multiple sheets, you can specify which sheet to load:"
   ]
  },
  {
   "cell_type": "code",
   "execution_count": 69,
   "metadata": {},
   "outputs": [],
   "source": [
    "# df = pd.read_excel(\"YOUR PATH\", sheet_name=\"SHEET NAME\")"
   ]
  },
  {
   "cell_type": "markdown",
   "metadata": {},
   "source": [
    "## Conclusion\n",
    "\n",
    "This pandas crash course covered:\n",
    "\n",
    "- Pandas Data Structures (Series and DataFrames)\n",
    "\n",
    "- Loading, inspecting, and selecting data\n",
    "\n",
    "- Filtering, grouping, and manipulating data\n",
    "\n",
    "- Handling missing data and applying custom functions\n",
    "\n",
    "Pandas is a powerful tool for data analysis. Keep practicing with real datasets to improve your skills!\n"
   ]
  }
 ],
 "metadata": {
  "kernelspec": {
   "display_name": "data-science",
   "language": "python",
   "name": "python3"
  },
  "language_info": {
   "codemirror_mode": {
    "name": "ipython",
    "version": 3
   },
   "file_extension": ".py",
   "mimetype": "text/x-python",
   "name": "python",
   "nbconvert_exporter": "python",
   "pygments_lexer": "ipython3",
   "version": "3.12.2"
  }
 },
 "nbformat": 4,
 "nbformat_minor": 2
}
