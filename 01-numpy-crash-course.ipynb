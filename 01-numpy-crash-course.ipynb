{
 "cells": [
  {
   "cell_type": "markdown",
   "metadata": {},
   "source": [
    "# NumPy Crash Course\n",
    "\n",
    "Welcome to this crash course on **NumPy**, a fundamental package for scientific computing in Python. By the end of this course, you'll understand the basics of NumPy and be able to use it for numerical computations and array manipulations.\n",
    "\n",
    "## Topics Covered\n",
    "\n",
    "1.  Introduction to NumPy\n",
    "\n",
    "2.  NumPy Arrays\n",
    "\n",
    "3.  Array Creation\n",
    "\n",
    "4.  Basic Array Operations\n",
    "\n",
    "5.  Indexing and Slicing\n",
    "\n",
    "6.  Reshaping and Resizing\n",
    "\n",
    "7.  Universal Functions (ufuncs)\n",
    "\n",
    "8.  Array Mathematics\n",
    "\n",
    "9.  Statistical Functions\n",
    "\n",
    "10. Broadcasting\n",
    "\n",
    "11. Working with Random Numbers\n"
   ]
  },
  {
   "cell_type": "markdown",
   "metadata": {},
   "source": [
    "## 1. Introduction to NumPy\n",
    "\n",
    "NumPy (Numerical Python) is a Python library used for working with arrays. It provides high-performance multidimensional array objects and tools for working with these arrays.\n",
    "\n",
    "To use NumPy, you first need to import it:\n",
    "\n",
    "```python\n",
    "\n",
    "import numpy as np\n",
    "\n",
    "```\n",
    "\n",
    "NumPy is commonly imported with the alias `np`.\n"
   ]
  },
  {
   "cell_type": "markdown",
   "metadata": {},
   "source": [
    "## 2. NumPy Arrays\n",
    "\n",
    "The core of NumPy is the **ndarray**, where **nd** stands for n-dimensional. It's a collection of items of the same type.\n",
    "\n",
    "**Example**:\n"
   ]
  },
  {
   "cell_type": "code",
   "execution_count": 13,
   "metadata": {},
   "outputs": [
    {
     "name": "stdout",
     "output_type": "stream",
     "text": [
      "1D Array:\n",
      "[1 2 3 4 5]\n"
     ]
    }
   ],
   "source": [
    "import numpy as np\n",
    "\n",
    "# Creating a 1D array\n",
    "arr = np.array([1, 2, 3, 4, 5])\n",
    "print(\"1D Array:\")\n",
    "print(arr)"
   ]
  },
  {
   "cell_type": "markdown",
   "metadata": {},
   "source": [
    "You can check the type of the array and its data type:\n"
   ]
  },
  {
   "cell_type": "code",
   "execution_count": 14,
   "metadata": {},
   "outputs": [
    {
     "name": "stdout",
     "output_type": "stream",
     "text": [
      "Type of arr: <class 'numpy.ndarray'>\n",
      "Data type of elements: int64\n"
     ]
    }
   ],
   "source": [
    "print(\"Type of arr:\", type(arr))\n",
    "print(\"Data type of elements:\", arr.dtype)"
   ]
  },
  {
   "cell_type": "markdown",
   "metadata": {},
   "source": [
    "## 3. Array Creation\n",
    "\n",
    "There are several ways to create arrays in NumPy.\n",
    "\n",
    "### Using `array()` Function:\n"
   ]
  },
  {
   "cell_type": "code",
   "execution_count": 15,
   "metadata": {},
   "outputs": [
    {
     "name": "stdout",
     "output_type": "stream",
     "text": [
      "2D Array:\n",
      "[[1 2 3]\n",
      " [4 5 6]]\n"
     ]
    }
   ],
   "source": [
    "# Creating a 2D array\n",
    "arr_2d = np.array([[1, 2, 3], [4, 5, 6]])\n",
    "print(\"2D Array:\")\n",
    "print(arr_2d)"
   ]
  },
  {
   "cell_type": "markdown",
   "metadata": {},
   "source": [
    "### Using Built-in Functions:\n"
   ]
  },
  {
   "cell_type": "code",
   "execution_count": 16,
   "metadata": {},
   "outputs": [
    {
     "name": "stdout",
     "output_type": "stream",
     "text": [
      "Array of zeros:\n",
      "[[0. 0. 0.]\n",
      " [0. 0. 0.]]\n",
      "\n",
      "Array of ones:\n",
      "[[1. 1.]\n",
      " [1. 1.]\n",
      " [1. 1.]]\n",
      "\n",
      "Array with range:\n",
      "[0 2 4 6 8]\n",
      "\n",
      "Linearly spaced array:\n",
      "[0.   0.25 0.5  0.75 1.  ]\n"
     ]
    }
   ],
   "source": [
    "# Create an array of zeros\n",
    "zeros = np.zeros((2, 3))\n",
    "print(\"Array of zeros:\")\n",
    "print(zeros)\n",
    "\n",
    "# Create an array of ones\n",
    "ones = np.ones((3, 2))\n",
    "print(\"\\nArray of ones:\")\n",
    "print(ones)\n",
    "\n",
    "# Create an array with a range of values\n",
    "range_arr = np.arange(0, 10, 2)\n",
    "print(\"\\nArray with range:\")\n",
    "print(range_arr)\n",
    "\n",
    "# Create an array with linearly spaced values\n",
    "linspace_arr = np.linspace(0, 1, 5)\n",
    "print(\"\\nLinearly spaced array:\")\n",
    "print(linspace_arr)"
   ]
  },
  {
   "cell_type": "markdown",
   "metadata": {},
   "source": [
    "## 4. Basic Array Operations\n",
    "\n",
    "You can perform arithmetic operations on arrays.\n"
   ]
  },
  {
   "cell_type": "code",
   "execution_count": 17,
   "metadata": {},
   "outputs": [
    {
     "name": "stdout",
     "output_type": "stream",
     "text": [
      "a + b = [5 7 9]\n",
      "a - b = [-3 -3 -3]\n",
      "a * b = [ 4 10 18]\n",
      "a / b = [0.25 0.4  0.5 ]\n",
      "a * 2 = [2 4 6]\n"
     ]
    }
   ],
   "source": [
    "a = np.array([1, 2, 3])\n",
    "b = np.array([4, 5, 6])\n",
    "\n",
    "# Addition\n",
    "print(\"a + b =\", a + b)\n",
    "\n",
    "# Subtraction\n",
    "print(\"a - b =\", a - b)\n",
    "\n",
    "# Multiplication\n",
    "print(\"a * b =\", a * b)\n",
    "\n",
    "# Division\n",
    "print(\"a / b =\", a / b)\n",
    "\n",
    "# Scalar operations\n",
    "print(\"a * 2 =\", a * 2)"
   ]
  },
  {
   "cell_type": "markdown",
   "metadata": {},
   "source": [
    "## 5. Indexing and Slicing\n",
    "\n",
    "Access elements and subsets of arrays.\n"
   ]
  },
  {
   "cell_type": "code",
   "execution_count": 18,
   "metadata": {},
   "outputs": [
    {
     "name": "stdout",
     "output_type": "stream",
     "text": [
      "First element: 10\n",
      "Elements from index 1 to 3: [20 30 40]\n",
      "\n",
      "Element at row 1, column 2: 6\n",
      "First row: [1 2 3]\n",
      "Second column: [2 5]\n"
     ]
    }
   ],
   "source": [
    "arr = np.array([10, 20, 30, 40, 50])\n",
    "\n",
    "# Accessing an element\n",
    "print(\"First element:\", arr[0])\n",
    "\n",
    "# Slicing\n",
    "print(\"Elements from index 1 to 3:\", arr[1:4])\n",
    "\n",
    "# For 2D arrays\n",
    "arr_2d = np.array([[1, 2, 3], [4, 5, 6]])\n",
    "print(\"\\nElement at row 1, column 2:\", arr_2d[1, 2])\n",
    "\n",
    "print(\"First row:\", arr_2d[0, :])\n",
    "print(\"Second column:\", arr_2d[:, 1])"
   ]
  },
  {
   "cell_type": "markdown",
   "metadata": {},
   "source": [
    "## 6. Reshaping and Resizing\n",
    "\n",
    "Change the shape of arrays.\n"
   ]
  },
  {
   "cell_type": "code",
   "execution_count": 19,
   "metadata": {},
   "outputs": [
    {
     "name": "stdout",
     "output_type": "stream",
     "text": [
      "Reshaped array (2x3):\n",
      "[[1 2 3]\n",
      " [4 5 6]]\n",
      "\n",
      "Flattened array:\n",
      "[1 2 3 4 5 6]\n"
     ]
    }
   ],
   "source": [
    "arr = np.array([1, 2, 3, 4, 5, 6])\n",
    "\n",
    "# Reshape to 2 rows and 3 columns\n",
    "reshaped_arr = arr.reshape(2, 3)\n",
    "print(\"Reshaped array (2x3):\")\n",
    "print(reshaped_arr)\n",
    "\n",
    "# Flatten the array back to 1D\n",
    "flattened_arr = reshaped_arr.flatten()\n",
    "print(\"\\nFlattened array:\")\n",
    "print(flattened_arr)"
   ]
  },
  {
   "cell_type": "markdown",
   "metadata": {},
   "source": [
    "## 7. Universal Functions (ufuncs)\n",
    "\n",
    "Functions that operate element-wise on arrays.\n"
   ]
  },
  {
   "cell_type": "code",
   "execution_count": 20,
   "metadata": {},
   "outputs": [
    {
     "name": "stdout",
     "output_type": "stream",
     "text": [
      "Square roots: [1. 2. 3. 4.]\n",
      "Exponentials: [2.71828183e+00 5.45981500e+01 8.10308393e+03 8.88611052e+06]\n",
      "Sine of angles: [0.0000000e+00 1.0000000e+00 1.2246468e-16]\n"
     ]
    }
   ],
   "source": [
    "arr = np.array([1, 4, 9, 16])\n",
    "\n",
    "# Square root\n",
    "print(\"Square roots:\", np.sqrt(arr))\n",
    "\n",
    "# Exponential\n",
    "print(\"Exponentials:\", np.exp(arr))\n",
    "\n",
    "# Sine function\n",
    "angles = np.array([0, np.pi / 2, np.pi])\n",
    "print(\"Sine of angles:\", np.sin(angles))"
   ]
  },
  {
   "cell_type": "markdown",
   "metadata": {},
   "source": [
    "## 8. Array Mathematics\n",
    "\n",
    "Matrix multiplication and dot product.\n"
   ]
  },
  {
   "cell_type": "code",
   "execution_count": 21,
   "metadata": {},
   "outputs": [
    {
     "name": "stdout",
     "output_type": "stream",
     "text": [
      "Matrix product of A and B:\n",
      "[[19 22]\n",
      " [43 50]]\n"
     ]
    }
   ],
   "source": [
    "# Matrix multiplication\n",
    "A = np.array([[1, 2], [3, 4]])\n",
    "B = np.array([[5, 6], [7, 8]])\n",
    "\n",
    "product = np.dot(A, B)\n",
    "print(\"Matrix product of A and B:\")\n",
    "print(product)"
   ]
  },
  {
   "cell_type": "markdown",
   "metadata": {},
   "source": [
    "## 9. Statistical Functions\n",
    "\n",
    "Calculate statistical values on arrays.\n"
   ]
  },
  {
   "cell_type": "code",
   "execution_count": 22,
   "metadata": {},
   "outputs": [
    {
     "name": "stdout",
     "output_type": "stream",
     "text": [
      "Sum: 15\n",
      "Mean: 3.0\n",
      "Standard deviation: 1.4142135623730951\n",
      "Maximum: 5\n",
      "Minimum: 1\n"
     ]
    }
   ],
   "source": [
    "data = np.array([1, 2, 3, 4, 5])\n",
    "\n",
    "print(\"Sum:\", np.sum(data))\n",
    "print(\"Mean:\", np.mean(data))\n",
    "print(\"Standard deviation:\", np.std(data))\n",
    "print(\"Maximum:\", np.max(data))\n",
    "print(\"Minimum:\", np.min(data))"
   ]
  },
  {
   "cell_type": "markdown",
   "metadata": {},
   "source": [
    "## 10. Broadcasting\n",
    "\n",
    "Perform operations on arrays of different shapes.\n"
   ]
  },
  {
   "cell_type": "code",
   "execution_count": 23,
   "metadata": {},
   "outputs": [
    {
     "name": "stdout",
     "output_type": "stream",
     "text": [
      "arr * scalar: [2 4 6]\n",
      "\n",
      "Array:\n",
      "[1 2 3]\n",
      "Matrix:\n",
      "[[1]\n",
      " [2]\n",
      " [3]]\n",
      "Result of broadcasting addition:\n",
      "[[2 3 4]\n",
      " [3 4 5]\n",
      " [4 5 6]]\n"
     ]
    }
   ],
   "source": [
    "arr = np.array([1, 2, 3])\n",
    "scalar = 2\n",
    "\n",
    "# Broadcasting scalar multiplication\n",
    "print(\"arr * scalar:\", arr * scalar)\n",
    "\n",
    "# Broadcasting with different shapes\n",
    "matrix = np.array([[1], [2], [3]])\n",
    "print(\"\\nArray:\")\n",
    "print(arr)\n",
    "print(\"Matrix:\")\n",
    "print(matrix)\n",
    "print(\"Result of broadcasting addition:\")\n",
    "print(arr + matrix)"
   ]
  },
  {
   "cell_type": "markdown",
   "metadata": {},
   "source": [
    "## 11. Working with Random Numbers\n",
    "\n",
    "Generate random numbers and arrays.\n"
   ]
  },
  {
   "cell_type": "code",
   "execution_count": 24,
   "metadata": {},
   "outputs": [
    {
     "name": "stdout",
     "output_type": "stream",
     "text": [
      "Random floats: [0.54488318 0.4236548  0.64589411]\n",
      "\n",
      "Random integers:\n",
      "[[4 7 6]\n",
      " [8 8 1]\n",
      " [6 7 7]]\n",
      "\n",
      "Random numbers with seed 0: [0.5488135  0.71518937 0.60276338]\n"
     ]
    }
   ],
   "source": [
    "# Random floats between 0 and 1\n",
    "rand_arr = np.random.rand(3)\n",
    "print(\"Random floats:\", rand_arr)\n",
    "\n",
    "# Random integers\n",
    "rand_ints = np.random.randint(0, 10, size=(3, 3))\n",
    "print(\"\\nRandom integers:\")\n",
    "print(rand_ints)\n",
    "\n",
    "# Set seed for reproducibility\n",
    "np.random.seed(0)\n",
    "print(\"\\nRandom numbers with seed 0:\", np.random.rand(3))"
   ]
  },
  {
   "cell_type": "markdown",
   "metadata": {},
   "source": [
    "## Conclusion\n",
    "\n",
    "This NumPy crash course covered:\n",
    "\n",
    "- Introduction to NumPy and ndarray\n",
    "\n",
    "- Array creation methods\n",
    "\n",
    "- Basic array operations\n",
    "\n",
    "- Indexing and slicing arrays\n",
    "\n",
    "- Reshaping and resizing arrays\n",
    "\n",
    "- Universal functions (ufuncs)\n",
    "\n",
    "- Array mathematics\n",
    "\n",
    "- Statistical functions\n",
    "\n",
    "- Broadcasting\n",
    "\n",
    "- Working with random numbers\n",
    "\n",
    "NumPy is a powerful library for numerical computing. Keep practicing to become proficient!\n"
   ]
  }
 ],
 "metadata": {
  "kernelspec": {
   "display_name": "data-science",
   "language": "python",
   "name": "python3"
  },
  "language_info": {
   "codemirror_mode": {
    "name": "ipython",
    "version": 3
   },
   "file_extension": ".py",
   "mimetype": "text/x-python",
   "name": "python",
   "nbconvert_exporter": "python",
   "pygments_lexer": "ipython3",
   "version": "3.12.2"
  }
 },
 "nbformat": 4,
 "nbformat_minor": 2
}
