{
 "cells": [
  {
   "cell_type": "code",
   "execution_count": 5,
   "metadata": {},
   "outputs": [],
   "source": [
    "import pandas as pd\n",
    "from scipy import stats\n",
    "import matplotlib.pyplot as plt"
   ]
  },
  {
   "cell_type": "markdown",
   "metadata": {},
   "source": [
    "# Membaca Data"
   ]
  },
  {
   "cell_type": "code",
   "execution_count": 6,
   "metadata": {},
   "outputs": [
    {
     "data": {
      "text/html": [
       "<div>\n",
       "<style scoped>\n",
       "    .dataframe tbody tr th:only-of-type {\n",
       "        vertical-align: middle;\n",
       "    }\n",
       "\n",
       "    .dataframe tbody tr th {\n",
       "        vertical-align: top;\n",
       "    }\n",
       "\n",
       "    .dataframe thead th {\n",
       "        text-align: right;\n",
       "    }\n",
       "</style>\n",
       "<table border=\"1\" class=\"dataframe\">\n",
       "  <thead>\n",
       "    <tr style=\"text-align: right;\">\n",
       "      <th></th>\n",
       "      <th>vehicle_id</th>\n",
       "      <th>tenure</th>\n",
       "      <th>ownership</th>\n",
       "      <th>avg_passenger</th>\n",
       "      <th>avg_milage_normalized</th>\n",
       "      <th>avg_duration</th>\n",
       "      <th>avg_distance_normalized</th>\n",
       "      <th>income</th>\n",
       "    </tr>\n",
       "  </thead>\n",
       "  <tbody>\n",
       "    <tr>\n",
       "      <th>0</th>\n",
       "      <td>13006009578909</td>\n",
       "      <td>3</td>\n",
       "      <td>rent</td>\n",
       "      <td>2.114440</td>\n",
       "      <td>2.078768</td>\n",
       "      <td>0.211278</td>\n",
       "      <td>6.556613</td>\n",
       "      <td>22709.945569</td>\n",
       "    </tr>\n",
       "    <tr>\n",
       "      <th>1</th>\n",
       "      <td>358240053414231</td>\n",
       "      <td>2</td>\n",
       "      <td>rent</td>\n",
       "      <td>10.734419</td>\n",
       "      <td>0.504001</td>\n",
       "      <td>1.655938</td>\n",
       "      <td>0.815652</td>\n",
       "      <td>1494.552909</td>\n",
       "    </tr>\n",
       "    <tr>\n",
       "      <th>2</th>\n",
       "      <td>12336004843938</td>\n",
       "      <td>3</td>\n",
       "      <td>rent</td>\n",
       "      <td>0.796991</td>\n",
       "      <td>0.640769</td>\n",
       "      <td>1.558425</td>\n",
       "      <td>0.633661</td>\n",
       "      <td>56072.370862</td>\n",
       "    </tr>\n",
       "    <tr>\n",
       "      <th>3</th>\n",
       "      <td>12336009883541</td>\n",
       "      <td>4</td>\n",
       "      <td>rent</td>\n",
       "      <td>15.917807</td>\n",
       "      <td>0.323527</td>\n",
       "      <td>0.359985</td>\n",
       "      <td>2.257998</td>\n",
       "      <td>95292.025064</td>\n",
       "    </tr>\n",
       "    <tr>\n",
       "      <th>4</th>\n",
       "      <td>353285047053830</td>\n",
       "      <td>4</td>\n",
       "      <td>own</td>\n",
       "      <td>6.402184</td>\n",
       "      <td>1.825980</td>\n",
       "      <td>0.593083</td>\n",
       "      <td>0.780963</td>\n",
       "      <td>23822.013274</td>\n",
       "    </tr>\n",
       "  </tbody>\n",
       "</table>\n",
       "</div>"
      ],
      "text/plain": [
       "        vehicle_id  tenure ownership  avg_passenger  avg_milage_normalized  \\\n",
       "0   13006009578909       3      rent       2.114440               2.078768   \n",
       "1  358240053414231       2      rent      10.734419               0.504001   \n",
       "2   12336004843938       3      rent       0.796991               0.640769   \n",
       "3   12336009883541       4      rent      15.917807               0.323527   \n",
       "4  353285047053830       4       own       6.402184               1.825980   \n",
       "\n",
       "   avg_duration  avg_distance_normalized        income  \n",
       "0      0.211278                 6.556613  22709.945569  \n",
       "1      1.655938                 0.815652   1494.552909  \n",
       "2      1.558425                 0.633661  56072.370862  \n",
       "3      0.359985                 2.257998  95292.025064  \n",
       "4      0.593083                 0.780963  23822.013274  "
      ]
     },
     "execution_count": 6,
     "metadata": {},
     "output_type": "execute_result"
    }
   ],
   "source": [
    "# Membaca DF\n",
    "df = pd.read_json(\"input/driver_income.json\")\n",
    "# Tampilkan 5 baris pertama\n",
    "df.head()"
   ]
  },
  {
   "cell_type": "markdown",
   "metadata": {},
   "source": [
    "Sekarang kita akan melihat informasi dari DataFrame kita."
   ]
  },
  {
   "cell_type": "code",
   "execution_count": 7,
   "metadata": {},
   "outputs": [
    {
     "name": "stdout",
     "output_type": "stream",
     "text": [
      "<class 'pandas.core.frame.DataFrame'>\n",
      "Index: 10000 entries, 0 to 9999\n",
      "Data columns (total 8 columns):\n",
      " #   Column                   Non-Null Count  Dtype  \n",
      "---  ------                   --------------  -----  \n",
      " 0   vehicle_id               10000 non-null  int64  \n",
      " 1   tenure                   10000 non-null  int64  \n",
      " 2   ownership                10000 non-null  object \n",
      " 3   avg_passenger            10000 non-null  float64\n",
      " 4   avg_milage_normalized    10000 non-null  float64\n",
      " 5   avg_duration             10000 non-null  float64\n",
      " 6   avg_distance_normalized  10000 non-null  float64\n",
      " 7   income                   10000 non-null  float64\n",
      "dtypes: float64(5), int64(2), object(1)\n",
      "memory usage: 703.1+ KB\n"
     ]
    }
   ],
   "source": [
    "df.info()"
   ]
  },
  {
   "cell_type": "markdown",
   "metadata": {},
   "source": [
    "# Membuat Visualisasii"
   ]
  },
  {
   "cell_type": "markdown",
   "metadata": {},
   "source": [
    "## Vis 1: Pie Chart dari Rent vs Own"
   ]
  },
  {
   "cell_type": "code",
   "execution_count": 8,
   "metadata": {},
   "outputs": [
    {
     "data": {
      "text/plain": [
       "ownership\n",
       "rent    70.74\n",
       "own     29.26\n",
       "Name: proportion, dtype: float64"
      ]
     },
     "execution_count": 8,
     "metadata": {},
     "output_type": "execute_result"
    }
   ],
   "source": [
    "proportion = df.loc[:, \"ownership\"].value_counts(normalize=True) * 100\n",
    "proportion"
   ]
  },
  {
   "cell_type": "code",
   "execution_count": 9,
   "metadata": {},
   "outputs": [
    {
     "data": {
      "image/png": "[encoded data removed]",
      "text/plain": [
       "<Figure size 640x480 with 1 Axes>"
      ]
     },
     "metadata": {},
     "output_type": "display_data"
    }
   ],
   "source": [
    "# Create a pie chart\n",
    "fig, ax = plt.subplots()\n",
    "wedges, texts, autotexts = ax.pie(\n",
    "    proportion,\n",
    "    labels=proportion.index,\n",
    "    autopct=\"%1.1f%%\",  # Show percentage with one decimal place\n",
    "    startangle=90,  # Start the pie chart at the top\n",
    "    textprops=dict(color=\"w\"),  # Change text color for better readability\n",
    ")\n",
    "\n",
    "# Set title\n",
    "plt.title(\"Distribution of Rent vs Own\")\n",
    "\n",
    "# Show the legend\n",
    "plt.legend()\n",
    "\n",
    "# Display the plot\n",
    "plt.show()"
   ]
  },
  {
   "cell_type": "markdown",
   "metadata": {},
   "source": [
    "**Pie Chart** adalah grafik melingkar yang dibagi menjadi irisan yang mewakili bagian yang berbeda dari keseluruhan (proporsi). Ini membantu Anda memvisualisasikan proporsi setiap kategori dalam dataset relatif terhadap total.\n",
    "\n",
    "### Contoh:\n",
    "Bayangkan Anda mensurvei 100 orang pada buah favorit mereka, dan hasilnya adalah:\n",
    "- **Apel**: 40 orang\n",
    "- **Pisang**: 30 orang\n",
    "- **Ceri**: 20 orang\n",
    "- **Anggur**: 10 orang\n",
    "\n",
    "Dalam diagram lingkaran:\n",
    "- Irisan apel akan memakan 40% dari kue.\n",
    "- Irisan pisang akan memakan waktu 30%, dan seterusnya.\n",
    "\n",
    "### Apa yang bisa Anda pelajari:\n",
    "- **Proporsi**: Lihat kategori mana yang merupakan bagian terbesar atau terkecil dari keseluruhan.\n",
    "- **Perbandingan**: Cepat membandingkan satu kategori dengan yang lain untuk melihat mana yang lebih umum atau kurang umum."
   ]
  },
  {
   "cell_type": "markdown",
   "metadata": {},
   "source": [
    "## Vis 2: Histogram dari Income"
   ]
  },
  {
   "cell_type": "code",
   "execution_count": 10,
   "metadata": {},
   "outputs": [
    {
     "data": {
      "image/png": "[encoded data removed]",
      "text/plain": [
       "<Figure size 1000x600 with 1 Axes>"
      ]
     },
     "metadata": {},
     "output_type": "display_data"
    }
   ],
   "source": [
    "data = df.loc[:, \"income\"]\n",
    "\n",
    "# Define the bin edges starting from 0 with a width of 10,000\n",
    "bin_width = 50_000\n",
    "max_income = data.max()\n",
    "bins = list(range(0, int(max_income + bin_width), bin_width))\n",
    "\n",
    "# Create a histogram\n",
    "plt.figure(figsize=(10, 6))\n",
    "plt.hist(data, bins=bins, edgecolor=\"black\")\n",
    "\n",
    "# Add labels and title\n",
    "plt.xlabel(\"Income\")\n",
    "plt.ylabel(\"Frequency\")\n",
    "plt.title(\"Income Distribution Histogram\")\n",
    "plt.xticks(bins)  # Set x-tick labels to match bin edges for clarity\n",
    "\n",
    "# Display the plot\n",
    "plt.show()"
   ]
  },
  {
   "cell_type": "markdown",
   "metadata": {},
   "source": [
    "**Histogram** adalah jenis bagan batang yang menunjukkan seberapa sering nilai atau rentang nilai yang berbeda muncul dalam dataset. Ini membantu Anda memvisualisasikan distribusi data, membuat lebih mudah untuk melihat pola seperti bagaimana menyebar data dan di mana sebagian besar data jatuh.\n",
    "\n",
    "### Contoh:\n",
    "Bayangkan Anda memiliki data berikut yang mewakili usia orang dalam suatu kelompok: [5, 8, 12, 15, 18, 21, 21, 23, 30, 35, 40, 45].\n",
    "\n",
    "Jika Anda membuat histogram dengan nampan usia 0-10, 10-20, 20-30, dll., ini akan menunjukkan:\n",
    "- Bar untuk usia 0-10 dengan ketinggian yang mewakili jumlah orang berusia antara 0 dan 10.\n",
    "- Bar lain untuk 10–20, dan seterusnya.\n",
    "\n",
    "### Apa yang bisa Anda pelajari:\n",
    "- **Puncak**: Bilah tinggi menunjukkan bahwa banyak titik data termasuk dalam kisaran itu.\n",
    "- **Penyebaran**: Seberapa luas data di berbagai bin menunjukkan variabilitas dalam data.\n",
    "- **Skewness**: Anda dapat melihat apakah data sebagian besar di satu sisi (miring kiri atau miring kanan) atau jika simetris."
   ]
  },
  {
   "cell_type": "markdown",
   "metadata": {},
   "source": [
    "## Vis 3: Histogram dari Average Passengers"
   ]
  },
  {
   "cell_type": "code",
   "execution_count": 11,
   "metadata": {},
   "outputs": [
    {
     "data": {
      "text/html": [
       "<div>\n",
       "<style scoped>\n",
       "    .dataframe tbody tr th:only-of-type {\n",
       "        vertical-align: middle;\n",
       "    }\n",
       "\n",
       "    .dataframe tbody tr th {\n",
       "        vertical-align: top;\n",
       "    }\n",
       "\n",
       "    .dataframe thead th {\n",
       "        text-align: right;\n",
       "    }\n",
       "</style>\n",
       "<table border=\"1\" class=\"dataframe\">\n",
       "  <thead>\n",
       "    <tr style=\"text-align: right;\">\n",
       "      <th></th>\n",
       "      <th>vehicle_id</th>\n",
       "      <th>tenure</th>\n",
       "      <th>ownership</th>\n",
       "      <th>avg_passenger</th>\n",
       "      <th>avg_milage_normalized</th>\n",
       "      <th>avg_duration</th>\n",
       "      <th>avg_distance_normalized</th>\n",
       "      <th>income</th>\n",
       "    </tr>\n",
       "  </thead>\n",
       "  <tbody>\n",
       "    <tr>\n",
       "      <th>0</th>\n",
       "      <td>13006009578909</td>\n",
       "      <td>3</td>\n",
       "      <td>rent</td>\n",
       "      <td>2.114440</td>\n",
       "      <td>2.078768</td>\n",
       "      <td>0.211278</td>\n",
       "      <td>6.556613</td>\n",
       "      <td>22709.945569</td>\n",
       "    </tr>\n",
       "    <tr>\n",
       "      <th>1</th>\n",
       "      <td>358240053414231</td>\n",
       "      <td>2</td>\n",
       "      <td>rent</td>\n",
       "      <td>10.734419</td>\n",
       "      <td>0.504001</td>\n",
       "      <td>1.655938</td>\n",
       "      <td>0.815652</td>\n",
       "      <td>1494.552909</td>\n",
       "    </tr>\n",
       "    <tr>\n",
       "      <th>2</th>\n",
       "      <td>12336004843938</td>\n",
       "      <td>3</td>\n",
       "      <td>rent</td>\n",
       "      <td>0.796991</td>\n",
       "      <td>0.640769</td>\n",
       "      <td>1.558425</td>\n",
       "      <td>0.633661</td>\n",
       "      <td>56072.370862</td>\n",
       "    </tr>\n",
       "    <tr>\n",
       "      <th>3</th>\n",
       "      <td>12336009883541</td>\n",
       "      <td>4</td>\n",
       "      <td>rent</td>\n",
       "      <td>15.917807</td>\n",
       "      <td>0.323527</td>\n",
       "      <td>0.359985</td>\n",
       "      <td>2.257998</td>\n",
       "      <td>95292.025064</td>\n",
       "    </tr>\n",
       "    <tr>\n",
       "      <th>4</th>\n",
       "      <td>353285047053830</td>\n",
       "      <td>4</td>\n",
       "      <td>own</td>\n",
       "      <td>6.402184</td>\n",
       "      <td>1.825980</td>\n",
       "      <td>0.593083</td>\n",
       "      <td>0.780963</td>\n",
       "      <td>23822.013274</td>\n",
       "    </tr>\n",
       "  </tbody>\n",
       "</table>\n",
       "</div>"
      ],
      "text/plain": [
       "        vehicle_id  tenure ownership  avg_passenger  avg_milage_normalized  \\\n",
       "0   13006009578909       3      rent       2.114440               2.078768   \n",
       "1  358240053414231       2      rent      10.734419               0.504001   \n",
       "2   12336004843938       3      rent       0.796991               0.640769   \n",
       "3   12336009883541       4      rent      15.917807               0.323527   \n",
       "4  353285047053830       4       own       6.402184               1.825980   \n",
       "\n",
       "   avg_duration  avg_distance_normalized        income  \n",
       "0      0.211278                 6.556613  22709.945569  \n",
       "1      1.655938                 0.815652   1494.552909  \n",
       "2      1.558425                 0.633661  56072.370862  \n",
       "3      0.359985                 2.257998  95292.025064  \n",
       "4      0.593083                 0.780963  23822.013274  "
      ]
     },
     "execution_count": 11,
     "metadata": {},
     "output_type": "execute_result"
    }
   ],
   "source": [
    "df.head()"
   ]
  },
  {
   "cell_type": "code",
   "execution_count": 12,
   "metadata": {},
   "outputs": [],
   "source": [
    "avg_passenger = df.loc[:, \"avg_passenger\"].round().value_counts().sort_index()"
   ]
  },
  {
   "cell_type": "code",
   "execution_count": 13,
   "metadata": {},
   "outputs": [
    {
     "data": {
      "image/png": "[encoded data removed]",
      "text/plain": [
       "<Figure size 640x480 with 1 Axes>"
      ]
     },
     "metadata": {},
     "output_type": "display_data"
    }
   ],
   "source": [
    "plt.bar(x=avg_passenger.index, height=avg_passenger.values)\n",
    "\n",
    "plt.xlabel(\"Average Passengers\")\n",
    "plt.ylabel(\"Count\")\n",
    "plt.title(\"Average Passengers\")\n",
    "plt.show()"
   ]
  },
  {
   "cell_type": "markdown",
   "metadata": {},
   "source": [
    "# Korelasi"
   ]
  },
  {
   "cell_type": "markdown",
   "metadata": {},
   "source": [
    "## tenure vs income"
   ]
  },
  {
   "cell_type": "code",
   "execution_count": 14,
   "metadata": {},
   "outputs": [
    {
     "name": "stdout",
     "output_type": "stream",
     "text": [
      "r-value = -0.02383379818067533\n"
     ]
    }
   ],
   "source": [
    "# Extract x and y variables\n",
    "x = df[\"tenure\"]\n",
    "y = df[\"income\"]\n",
    "\n",
    "# Calculate the linear regression to get the slope, intercept, and R-squared\n",
    "result = stats.linregress(x, y)\n",
    "r_value = result.rvalue\n",
    "print(f\"r-value = {r_value}\")"
   ]
  },
  {
   "cell_type": "markdown",
   "metadata": {},
   "source": [
    "r_value (koefisien korelasi):\n",
    "\n",
    "Angka ini mengukur kekuatan dan arah hubungan antara x dan y.\n",
    "\n",
    "Nilai ini berkisar dari -1 hingga 1:\n",
    "- 1 berarti hubungan positif yang sempurna (seiring meningkatnya X, Y meningkat juga).\n",
    "- -1 berarti hubungan negatif yang sempurna (saat X meningkat, y justru berkurang).\n",
    "- 0 berarti tidak ada hubungan antara x dan y."
   ]
  },
  {
   "cell_type": "markdown",
   "metadata": {},
   "source": [
    "## avg_passenger vs income"
   ]
  },
  {
   "cell_type": "code",
   "execution_count": 15,
   "metadata": {},
   "outputs": [
    {
     "name": "stdout",
     "output_type": "stream",
     "text": [
      "r-value = 0.3679030252164048\n"
     ]
    }
   ],
   "source": [
    "# Extract x and y variables\n",
    "x = df[\"avg_passenger\"]\n",
    "y = df[\"income\"]\n",
    "\n",
    "# Calculate the linear regression to get the slope, intercept, and R-squared\n",
    "result = stats.linregress(x, y)\n",
    "r_value = result.rvalue\n",
    "print(f\"r-value = {r_value}\")"
   ]
  },
  {
   "cell_type": "code",
   "execution_count": 16,
   "metadata": {},
   "outputs": [
    {
     "data": {
      "image/png": "[encoded data removed]",
      "text/plain": [
       "<Figure size 1000x600 with 1 Axes>"
      ]
     },
     "metadata": {},
     "output_type": "display_data"
    }
   ],
   "source": [
    "# Calculate the linear regression to get the slope, intercept, and R-squared\n",
    "slope, intercept, r_value, p_value, std_err = stats.linregress(x, y)\n",
    "\n",
    "# Plot the scatter plot\n",
    "plt.figure(figsize=(10, 6))\n",
    "plt.scatter(x, y, color=\"blue\", label=\"Data Points\")\n",
    "plt.plot(\n",
    "    x,\n",
    "    intercept + slope * x,\n",
    "    color=\"red\",\n",
    ")\n",
    "\n",
    "# Add labels, title, and legend\n",
    "plt.xlabel(\"avg_passenger\")\n",
    "plt.ylabel(\"income\")\n",
    "plt.title(\"Scatter Plot of avg_passenger vs income\")\n",
    "plt.legend()\n",
    "\n",
    "# Display the plot\n",
    "plt.show()"
   ]
  },
  {
   "cell_type": "markdown",
   "metadata": {},
   "source": [
    "## avg_duration vs income"
   ]
  },
  {
   "cell_type": "code",
   "execution_count": 17,
   "metadata": {},
   "outputs": [
    {
     "name": "stdout",
     "output_type": "stream",
     "text": [
      "r-value = 0.3903233107055766\n"
     ]
    }
   ],
   "source": [
    "# Extract x and y variables\n",
    "x = df[\"avg_duration\"]\n",
    "y = df[\"income\"]\n",
    "\n",
    "# Calculate the linear regression to get the slope, intercept, and R-squared\n",
    "result = stats.linregress(x, y)\n",
    "r_value = result.rvalue\n",
    "print(f\"r-value = {r_value}\")"
   ]
  },
  {
   "cell_type": "code",
   "execution_count": 18,
   "metadata": {},
   "outputs": [
    {
     "data": {
      "image/png": "[encoded data removed]",
      "text/plain": [
       "<Figure size 1000x600 with 1 Axes>"
      ]
     },
     "metadata": {},
     "output_type": "display_data"
    }
   ],
   "source": [
    "# Calculate the linear regression to get the slope, intercept, and R-squared\n",
    "slope, intercept, r_value, p_value, std_err = stats.linregress(x, y)\n",
    "\n",
    "# Plot the scatter plot\n",
    "plt.figure(figsize=(10, 6))\n",
    "plt.scatter(x, y, color=\"blue\", label=\"Data Points\")\n",
    "plt.plot(\n",
    "    x,\n",
    "    intercept + slope * x,\n",
    "    color=\"red\",\n",
    ")\n",
    "\n",
    "# Add labels, title, and legend\n",
    "plt.xlabel(\"avg_duration\")\n",
    "plt.ylabel(\"income\")\n",
    "plt.title(\"Scatter Plot of avg_duration vs income\")\n",
    "plt.legend()\n",
    "\n",
    "# Display the plot\n",
    "plt.show()"
   ]
  },
  {
   "cell_type": "markdown",
   "metadata": {},
   "source": [
    "# Modelling"
   ]
  },
  {
   "cell_type": "markdown",
   "metadata": {},
   "source": [
    "## Pengertian"
   ]
  },
  {
   "cell_type": "markdown",
   "metadata": {},
   "source": [
    "### Klasifikasi\n",
    "**Klasifikasi** adalah jenis masalah dalam machine learning di mana kita mencoba mengelompokkan data ke dalam kategori atau kelas yang sudah ditentukan sebelumnya. Bayangkan kamu memiliki beberapa gambar kucing dan anjing, dan tugas kamu adalah membuat model yang bisa mengenali apakah gambar tersebut adalah **kucing** atau **anjing**. Model ini belajar dari contoh gambar yang sudah diberi label (kucing atau anjing) dan kemudian mengklasifikasikan gambar baru yang belum pernah dilihat sebelumnya.\n",
    "\n",
    "Contoh kasus klasifikasi:\n",
    "- Memprediksi apakah email masuk adalah **spam** atau **bukan spam**.\n",
    "- Mengelompokkan jenis bunga menjadi **setosa**, **versicolor**, atau **virginica**.\n",
    "\n",
    "### Regresi\n",
    "**Regresi** adalah jenis masalah dalam machine learning di mana kita mencoba memprediksi nilai angka atau kuantitas yang bersifat **kontinu**. Misalnya, jika kamu ingin memprediksi harga rumah berdasarkan luas tanah, jumlah kamar, dan lokasi, maka model regresi akan membantu memprediksi harga rumah sebagai angka (bukan kategori).\n",
    "\n",
    "Contoh kasus regresi:\n",
    "- Memprediksi **harga saham** berdasarkan data historis.\n",
    "- Menentukan **berat badan** seseorang berdasarkan tinggi badan dan usia.\n",
    "\n",
    "### Perbedaan Utama\n",
    "| Aspek        | Klasifikasi                     | Regresi                   |\n",
    "|--------------|--------------------------------|---------------------------|\n",
    "| Output       | Kategori/Kelas (misal: A, B)   | Angka/Kuantitas (misal: 100, 3.5) |\n",
    "| Contoh Masalah | Spam/Non-spam, Sakit/Sehat     | Prediksi harga, Prediksi suhu |\n",
    "| Algoritma    | Decision Tree, Random Forest, SVM | Linear Regression, Decision Tree Regression |\n",
    "\n",
    "Jadi, singkatnya:\n",
    "- Jika masalah kamu melibatkan memilih **kategori**, itu adalah **klasifikasi**.\n",
    "- Jika masalah kamu melibatkan memprediksi **nilai angka**, itu adalah **regresi**."
   ]
  },
  {
   "cell_type": "markdown",
   "metadata": {},
   "source": [
    "## Impor library yang diperlukan"
   ]
  },
  {
   "cell_type": "code",
   "execution_count": 19,
   "metadata": {},
   "outputs": [],
   "source": [
    "from sklearn.model_selection import train_test_split\n",
    "from sklearn.preprocessing import OneHotEncoder, StandardScaler\n",
    "from sklearn.linear_model import SGDRegressor  # stochastic gradient descent\n",
    "from sklearn.tree import DecisionTreeRegressor\n",
    "from sklearn.metrics import mean_absolute_error"
   ]
  },
  {
   "cell_type": "markdown",
   "metadata": {},
   "source": [
    "Lihat bagaimana data kita berbentuk."
   ]
  },
  {
   "cell_type": "code",
   "execution_count": 20,
   "metadata": {},
   "outputs": [
    {
     "data": {
      "text/html": [
       "<div>\n",
       "<style scoped>\n",
       "    .dataframe tbody tr th:only-of-type {\n",
       "        vertical-align: middle;\n",
       "    }\n",
       "\n",
       "    .dataframe tbody tr th {\n",
       "        vertical-align: top;\n",
       "    }\n",
       "\n",
       "    .dataframe thead th {\n",
       "        text-align: right;\n",
       "    }\n",
       "</style>\n",
       "<table border=\"1\" class=\"dataframe\">\n",
       "  <thead>\n",
       "    <tr style=\"text-align: right;\">\n",
       "      <th></th>\n",
       "      <th>vehicle_id</th>\n",
       "      <th>tenure</th>\n",
       "      <th>ownership</th>\n",
       "      <th>avg_passenger</th>\n",
       "      <th>avg_milage_normalized</th>\n",
       "      <th>avg_duration</th>\n",
       "      <th>avg_distance_normalized</th>\n",
       "      <th>income</th>\n",
       "    </tr>\n",
       "  </thead>\n",
       "  <tbody>\n",
       "    <tr>\n",
       "      <th>0</th>\n",
       "      <td>13006009578909</td>\n",
       "      <td>3</td>\n",
       "      <td>rent</td>\n",
       "      <td>2.114440</td>\n",
       "      <td>2.078768</td>\n",
       "      <td>0.211278</td>\n",
       "      <td>6.556613</td>\n",
       "      <td>22709.945569</td>\n",
       "    </tr>\n",
       "    <tr>\n",
       "      <th>1</th>\n",
       "      <td>358240053414231</td>\n",
       "      <td>2</td>\n",
       "      <td>rent</td>\n",
       "      <td>10.734419</td>\n",
       "      <td>0.504001</td>\n",
       "      <td>1.655938</td>\n",
       "      <td>0.815652</td>\n",
       "      <td>1494.552909</td>\n",
       "    </tr>\n",
       "    <tr>\n",
       "      <th>2</th>\n",
       "      <td>12336004843938</td>\n",
       "      <td>3</td>\n",
       "      <td>rent</td>\n",
       "      <td>0.796991</td>\n",
       "      <td>0.640769</td>\n",
       "      <td>1.558425</td>\n",
       "      <td>0.633661</td>\n",
       "      <td>56072.370862</td>\n",
       "    </tr>\n",
       "    <tr>\n",
       "      <th>3</th>\n",
       "      <td>12336009883541</td>\n",
       "      <td>4</td>\n",
       "      <td>rent</td>\n",
       "      <td>15.917807</td>\n",
       "      <td>0.323527</td>\n",
       "      <td>0.359985</td>\n",
       "      <td>2.257998</td>\n",
       "      <td>95292.025064</td>\n",
       "    </tr>\n",
       "    <tr>\n",
       "      <th>4</th>\n",
       "      <td>353285047053830</td>\n",
       "      <td>4</td>\n",
       "      <td>own</td>\n",
       "      <td>6.402184</td>\n",
       "      <td>1.825980</td>\n",
       "      <td>0.593083</td>\n",
       "      <td>0.780963</td>\n",
       "      <td>23822.013274</td>\n",
       "    </tr>\n",
       "  </tbody>\n",
       "</table>\n",
       "</div>"
      ],
      "text/plain": [
       "        vehicle_id  tenure ownership  avg_passenger  avg_milage_normalized  \\\n",
       "0   13006009578909       3      rent       2.114440               2.078768   \n",
       "1  358240053414231       2      rent      10.734419               0.504001   \n",
       "2   12336004843938       3      rent       0.796991               0.640769   \n",
       "3   12336009883541       4      rent      15.917807               0.323527   \n",
       "4  353285047053830       4       own       6.402184               1.825980   \n",
       "\n",
       "   avg_duration  avg_distance_normalized        income  \n",
       "0      0.211278                 6.556613  22709.945569  \n",
       "1      1.655938                 0.815652   1494.552909  \n",
       "2      1.558425                 0.633661  56072.370862  \n",
       "3      0.359985                 2.257998  95292.025064  \n",
       "4      0.593083                 0.780963  23822.013274  "
      ]
     },
     "execution_count": 20,
     "metadata": {},
     "output_type": "execute_result"
    }
   ],
   "source": [
    "df.head()"
   ]
  },
  {
   "cell_type": "markdown",
   "metadata": {},
   "source": [
    "## Buang kolom yang tidak perlu\n",
    "\n",
    "Buang kolom vehicle_id karena tidak berguna untuk pemodelan."
   ]
  },
  {
   "cell_type": "code",
   "execution_count": 21,
   "metadata": {},
   "outputs": [],
   "source": [
    "df = df.drop(columns=['vehicle_id'])"
   ]
  },
  {
   "cell_type": "markdown",
   "metadata": {},
   "source": [
    "## Tangani data kategorikal\n",
    "\n",
    "Kolom `kepemilikan` adalah kategorikal, jadi kita perlu menggunakan one-hot encoding (OHE) untuk mengubahnya menjadi kolom numerik."
   ]
  },
  {
   "cell_type": "code",
   "execution_count": 22,
   "metadata": {},
   "outputs": [
    {
     "data": {
      "text/html": [
       "<div>\n",
       "<style scoped>\n",
       "    .dataframe tbody tr th:only-of-type {\n",
       "        vertical-align: middle;\n",
       "    }\n",
       "\n",
       "    .dataframe tbody tr th {\n",
       "        vertical-align: top;\n",
       "    }\n",
       "\n",
       "    .dataframe thead th {\n",
       "        text-align: right;\n",
       "    }\n",
       "</style>\n",
       "<table border=\"1\" class=\"dataframe\">\n",
       "  <thead>\n",
       "    <tr style=\"text-align: right;\">\n",
       "      <th></th>\n",
       "      <th>tenure</th>\n",
       "      <th>avg_passenger</th>\n",
       "      <th>avg_milage_normalized</th>\n",
       "      <th>avg_duration</th>\n",
       "      <th>avg_distance_normalized</th>\n",
       "      <th>income</th>\n",
       "      <th>ownership_own</th>\n",
       "      <th>ownership_rent</th>\n",
       "    </tr>\n",
       "  </thead>\n",
       "  <tbody>\n",
       "    <tr>\n",
       "      <th>0</th>\n",
       "      <td>3</td>\n",
       "      <td>2.114440</td>\n",
       "      <td>2.078768</td>\n",
       "      <td>0.211278</td>\n",
       "      <td>6.556613</td>\n",
       "      <td>22709.945569</td>\n",
       "      <td>0.0</td>\n",
       "      <td>1.0</td>\n",
       "    </tr>\n",
       "    <tr>\n",
       "      <th>1</th>\n",
       "      <td>2</td>\n",
       "      <td>10.734419</td>\n",
       "      <td>0.504001</td>\n",
       "      <td>1.655938</td>\n",
       "      <td>0.815652</td>\n",
       "      <td>1494.552909</td>\n",
       "      <td>0.0</td>\n",
       "      <td>1.0</td>\n",
       "    </tr>\n",
       "    <tr>\n",
       "      <th>2</th>\n",
       "      <td>3</td>\n",
       "      <td>0.796991</td>\n",
       "      <td>0.640769</td>\n",
       "      <td>1.558425</td>\n",
       "      <td>0.633661</td>\n",
       "      <td>56072.370862</td>\n",
       "      <td>0.0</td>\n",
       "      <td>1.0</td>\n",
       "    </tr>\n",
       "    <tr>\n",
       "      <th>3</th>\n",
       "      <td>4</td>\n",
       "      <td>15.917807</td>\n",
       "      <td>0.323527</td>\n",
       "      <td>0.359985</td>\n",
       "      <td>2.257998</td>\n",
       "      <td>95292.025064</td>\n",
       "      <td>0.0</td>\n",
       "      <td>1.0</td>\n",
       "    </tr>\n",
       "    <tr>\n",
       "      <th>4</th>\n",
       "      <td>4</td>\n",
       "      <td>6.402184</td>\n",
       "      <td>1.825980</td>\n",
       "      <td>0.593083</td>\n",
       "      <td>0.780963</td>\n",
       "      <td>23822.013274</td>\n",
       "      <td>1.0</td>\n",
       "      <td>0.0</td>\n",
       "    </tr>\n",
       "  </tbody>\n",
       "</table>\n",
       "</div>"
      ],
      "text/plain": [
       "   tenure  avg_passenger  avg_milage_normalized  avg_duration  \\\n",
       "0       3       2.114440               2.078768      0.211278   \n",
       "1       2      10.734419               0.504001      1.655938   \n",
       "2       3       0.796991               0.640769      1.558425   \n",
       "3       4      15.917807               0.323527      0.359985   \n",
       "4       4       6.402184               1.825980      0.593083   \n",
       "\n",
       "   avg_distance_normalized        income  ownership_own  ownership_rent  \n",
       "0                 6.556613  22709.945569            0.0             1.0  \n",
       "1                 0.815652   1494.552909            0.0             1.0  \n",
       "2                 0.633661  56072.370862            0.0             1.0  \n",
       "3                 2.257998  95292.025064            0.0             1.0  \n",
       "4                 0.780963  23822.013274            1.0             0.0  "
      ]
     },
     "execution_count": 22,
     "metadata": {},
     "output_type": "execute_result"
    }
   ],
   "source": [
    "ohe = OneHotEncoder(sparse_output=False)\n",
    "ownership_encoded = ohe.fit_transform(df[[\"ownership\"]])\n",
    "\n",
    "# Convert to a DataFrame\n",
    "ownership_df = pd.DataFrame(\n",
    "    ownership_encoded, columns=ohe.get_feature_names_out([\"ownership\"])\n",
    ")\n",
    "\n",
    "# Combine OHE columns with the original DataFrame\n",
    "df = pd.concat([df, ownership_df], axis=1)\n",
    "df = df.drop(columns=['ownership'])\n",
    "\n",
    "df.head()"
   ]
  },
  {
   "cell_type": "markdown",
   "metadata": {},
   "source": [
    "## Pisahkan fitur dan target\n",
    "\n",
    "Kita perlu mendefinisikan X (fitur) dan y (target)."
   ]
  },
  {
   "cell_type": "markdown",
   "metadata": {},
   "source": [
    "### Apa itu **X**?\n",
    "- **X** adalah **fitur** atau **variabel input**. Ini adalah data yang kita gunakan sebagai **masukan** untuk model. Bisa diibaratkan sebagai **faktor-faktor** yang akan mempengaruhi hasil akhir.\n",
    "- Contoh:\n",
    "  - Jika kita ingin memprediksi harga rumah, maka **X** bisa berupa: luas rumah, jumlah kamar, lokasi, dsb.\n",
    "  - Jika kita ingin memprediksi apakah seorang pelanggan akan membeli produk, maka **X** bisa berupa: umur pelanggan, pendapatan, histori pembelian, dsb.\n",
    "\n",
    "### Apa itu **y**?\n",
    "- **y** adalah **target** atau **variabel output**. Ini adalah **hasil** atau **jawaban** yang ingin kita prediksi dengan model kita.\n",
    "- Contoh:\n",
    "  - Dalam kasus prediksi harga rumah, **y** adalah **harga rumah**.\n",
    "  - Dalam kasus klasifikasi pelanggan, **y** adalah apakah pelanggan akan membeli produk (**ya/tidak**).\n",
    "\n",
    "### Hubungan antara **X** dan **y**\n",
    "- Model machine learning **belajar** dari hubungan antara **X** (fitur) dan **y** (target).\n",
    "- Misalnya, kita memberikan data tentang luas rumah, jumlah kamar, dan lokasi (**X**) untuk memprediksi harga rumah (**y**).\n",
    "- Model akan melihat pola dari data tersebut, dan ketika kita memberikan data baru (fitur baru), model bisa memberikan prediksi nilai targetnya.\n",
    "\n",
    "Jadi, secara sederhana:\n",
    "- **X** adalah **input**, apa yang kita ketahui.\n",
    "- **y** adalah **output**, apa yang ingin kita prediksi."
   ]
  },
  {
   "cell_type": "code",
   "execution_count": 23,
   "metadata": {},
   "outputs": [],
   "source": [
    "X = df.drop(columns=['income'])\n",
    "y = df['income']"
   ]
  },
  {
   "cell_type": "markdown",
   "metadata": {},
   "source": [
    "## Pisahkan data\n",
    "\n",
    "Pisahkan data menjadi set pelatihan dan pengujian."
   ]
  },
  {
   "cell_type": "markdown",
   "metadata": {},
   "source": [
    "\n",
    "\n",
    "### Apa itu **Training Set**?\n",
    "- **Training set** adalah bagian dari data yang kita gunakan untuk **melatih** model machine learning. Model akan belajar dari data ini untuk memahami hubungan antara **fitur** (**X**) dan **target** (**y**).\n",
    "- Bayangkan kamu belajar menghadapi ujian dengan mengerjakan soal-soal latihan. Soal-soal latihan ini adalah **training set** yang membantu kamu memahami materi.\n",
    "\n",
    "Contoh:\n",
    "- Kamu memiliki data 1.000 rumah dengan informasi luas rumah, jumlah kamar, dan harga rumah.\n",
    "- Dari data ini, 800 rumah digunakan untuk melatih model dan mencari pola dari hubungan luas rumah dan harga. Ini disebut **training set**.\n",
    "\n",
    "### Apa itu **Test Set**?\n",
    "- **Test set** adalah bagian dari data yang digunakan untuk **menguji** model setelah model selesai dilatih. Data ini tidak pernah dilihat oleh model saat pelatihan, sehingga test set digunakan untuk melihat seberapa baik model bisa memprediksi hasil yang benar.\n",
    "- Bayangkan test set seperti soal ujian sebenarnya. Setelah belajar dengan soal latihan (**training set**), kamu diuji dengan soal ujian baru yang belum pernah kamu lihat.\n",
    "\n",
    "Contoh:\n",
    "- Dari data 1.000 rumah tadi, 200 rumah digunakan sebagai **test set** untuk menguji model. Kita akan melihat apakah model bisa memprediksi harga rumah dengan akurat menggunakan data ini.\n",
    "\n",
    "### Mengapa Memisahkan **Training Set** dan **Test Set** itu Penting?\n",
    "- Memisahkan data menjadi **training set** dan **test set** membantu kita menilai apakah model benar-benar **belajar dengan baik** atau hanya **mengingat data**.\n",
    "- Jika kita tidak menggunakan test set, model bisa saja terlihat sangat akurat saat diuji, tetapi sebenarnya hanya menghafal data tanpa memahami pola sebenarnya. Ini disebut **overfitting**.\n",
    "\n",
    "### Kesimpulan:\n",
    "- **Training set**: Digunakan untuk **melatih** model, agar model belajar pola dari data.\n",
    "- **Test set**: Digunakan untuk **menguji** model, agar kita tahu seberapa baik model bisa memprediksi hasil yang benar dengan data baru."
   ]
  },
  {
   "cell_type": "code",
   "execution_count": 24,
   "metadata": {},
   "outputs": [],
   "source": [
    "X_train, X_test, y_train, y_test = train_test_split(\n",
    "    X, y, test_size=0.2, random_state=42\n",
    ")"
   ]
  },
  {
   "cell_type": "markdown",
   "metadata": {},
   "source": [
    "## Standarisasi data\n",
    "\n",
    "Gunakan `StandardsCaler` untuk menstandarkan fitur untuk kinerja model yang lebih baik."
   ]
  },
  {
   "cell_type": "code",
   "execution_count": 25,
   "metadata": {},
   "outputs": [],
   "source": [
    "scaler = StandardScaler()\n",
    "X_train = scaler.fit_transform(X_train)\n",
    "X_test = scaler.transform(X_test)"
   ]
  },
  {
   "cell_type": "markdown",
   "metadata": {},
   "source": [
    "## Buat dan Latih model Gradient Descent\n",
    "\n",
    "Gunakan `sgdregressor` untuk regresi linier dengan gradient descent."
   ]
  },
  {
   "cell_type": "code",
   "execution_count": 26,
   "metadata": {},
   "outputs": [
    {
     "data": {
      "text/html": [
       "<style>#sk-container-id-1 {\n",
       "  /* Definition of color scheme common for light and dark mode */\n",
       "  --sklearn-color-text: black;\n",
       "  --sklearn-color-line: gray;\n",
       "  /* Definition of color scheme for unfitted estimators */\n",
       "  --sklearn-color-unfitted-level-0: #fff5e6;\n",
       "  --sklearn-color-unfitted-level-1: #f6e4d2;\n",
       "  --sklearn-color-unfitted-level-2: #ffe0b3;\n",
       "  --sklearn-color-unfitted-level-3: chocolate;\n",
       "  /* Definition of color scheme for fitted estimators */\n",
       "  --sklearn-color-fitted-level-0: #f0f8ff;\n",
       "  --sklearn-color-fitted-level-1: #d4ebff;\n",
       "  --sklearn-color-fitted-level-2: #b3dbfd;\n",
       "  --sklearn-color-fitted-level-3: cornflowerblue;\n",
       "\n",
       "  /* Specific color for light theme */\n",
       "  --sklearn-color-text-on-default-background: var(--sg-text-color, var(--theme-code-foreground, var(--jp-content-font-color1, black)));\n",
       "  --sklearn-color-background: var(--sg-background-color, var(--theme-background, var(--jp-layout-color0, white)));\n",
       "  --sklearn-color-border-box: var(--sg-text-color, var(--theme-code-foreground, var(--jp-content-font-color1, black)));\n",
       "  --sklearn-color-icon: #696969;\n",
       "\n",
       "  @media (prefers-color-scheme: dark) {\n",
       "    /* Redefinition of color scheme for dark theme */\n",
       "    --sklearn-color-text-on-default-background: var(--sg-text-color, var(--theme-code-foreground, var(--jp-content-font-color1, white)));\n",
       "    --sklearn-color-background: var(--sg-background-color, var(--theme-background, var(--jp-layout-color0, #111)));\n",
       "    --sklearn-color-border-box: var(--sg-text-color, var(--theme-code-foreground, var(--jp-content-font-color1, white)));\n",
       "    --sklearn-color-icon: #878787;\n",
       "  }\n",
       "}\n",
       "\n",
       "#sk-container-id-1 {\n",
       "  color: var(--sklearn-color-text);\n",
       "}\n",
       "\n",
       "#sk-container-id-1 pre {\n",
       "  padding: 0;\n",
       "}\n",
       "\n",
       "#sk-container-id-1 input.sk-hidden--visually {\n",
       "  border: 0;\n",
       "  clip: rect(1px 1px 1px 1px);\n",
       "  clip: rect(1px, 1px, 1px, 1px);\n",
       "  height: 1px;\n",
       "  margin: -1px;\n",
       "  overflow: hidden;\n",
       "  padding: 0;\n",
       "  position: absolute;\n",
       "  width: 1px;\n",
       "}\n",
       "\n",
       "#sk-container-id-1 div.sk-dashed-wrapped {\n",
       "  border: 1px dashed var(--sklearn-color-line);\n",
       "  margin: 0 0.4em 0.5em 0.4em;\n",
       "  box-sizing: border-box;\n",
       "  padding-bottom: 0.4em;\n",
       "  background-color: var(--sklearn-color-background);\n",
       "}\n",
       "\n",
       "#sk-container-id-1 div.sk-container {\n",
       "  /* jupyter's `normalize.less` sets `[hidden] { display: none; }`\n",
       "     but bootstrap.min.css set `[hidden] { display: none !important; }`\n",
       "     so we also need the `!important` here to be able to override the\n",
       "     default hidden behavior on the sphinx rendered scikit-learn.org.\n",
       "     See: https://github.com/scikit-learn/scikit-learn/issues/21755 */\n",
       "  display: inline-block !important;\n",
       "  position: relative;\n",
       "}\n",
       "\n",
       "#sk-container-id-1 div.sk-text-repr-fallback {\n",
       "  display: none;\n",
       "}\n",
       "\n",
       "div.sk-parallel-item,\n",
       "div.sk-serial,\n",
       "div.sk-item {\n",
       "  /* draw centered vertical line to link estimators */\n",
       "  background-image: linear-gradient(var(--sklearn-color-text-on-default-background), var(--sklearn-color-text-on-default-background));\n",
       "  background-size: 2px 100%;\n",
       "  background-repeat: no-repeat;\n",
       "  background-position: center center;\n",
       "}\n",
       "\n",
       "/* Parallel-specific style estimator block */\n",
       "\n",
       "#sk-container-id-1 div.sk-parallel-item::after {\n",
       "  content: \"\";\n",
       "  width: 100%;\n",
       "  border-bottom: 2px solid var(--sklearn-color-text-on-default-background);\n",
       "  flex-grow: 1;\n",
       "}\n",
       "\n",
       "#sk-container-id-1 div.sk-parallel {\n",
       "  display: flex;\n",
       "  align-items: stretch;\n",
       "  justify-content: center;\n",
       "  background-color: var(--sklearn-color-background);\n",
       "  position: relative;\n",
       "}\n",
       "\n",
       "#sk-container-id-1 div.sk-parallel-item {\n",
       "  display: flex;\n",
       "  flex-direction: column;\n",
       "}\n",
       "\n",
       "#sk-container-id-1 div.sk-parallel-item:first-child::after {\n",
       "  align-self: flex-end;\n",
       "  width: 50%;\n",
       "}\n",
       "\n",
       "#sk-container-id-1 div.sk-parallel-item:last-child::after {\n",
       "  align-self: flex-start;\n",
       "  width: 50%;\n",
       "}\n",
       "\n",
       "#sk-container-id-1 div.sk-parallel-item:only-child::after {\n",
       "  width: 0;\n",
       "}\n",
       "\n",
       "/* Serial-specific style estimator block */\n",
       "\n",
       "#sk-container-id-1 div.sk-serial {\n",
       "  display: flex;\n",
       "  flex-direction: column;\n",
       "  align-items: center;\n",
       "  background-color: var(--sklearn-color-background);\n",
       "  padding-right: 1em;\n",
       "  padding-left: 1em;\n",
       "}\n",
       "\n",
       "\n",
       "/* Toggleable style: style used for estimator/Pipeline/ColumnTransformer box that is\n",
       "clickable and can be expanded/collapsed.\n",
       "- Pipeline and ColumnTransformer use this feature and define the default style\n",
       "- Estimators will overwrite some part of the style using the `sk-estimator` class\n",
       "*/\n",
       "\n",
       "/* Pipeline and ColumnTransformer style (default) */\n",
       "\n",
       "#sk-container-id-1 div.sk-toggleable {\n",
       "  /* Default theme specific background. It is overwritten whether we have a\n",
       "  specific estimator or a Pipeline/ColumnTransformer */\n",
       "  background-color: var(--sklearn-color-background);\n",
       "}\n",
       "\n",
       "/* Toggleable label */\n",
       "#sk-container-id-1 label.sk-toggleable__label {\n",
       "  cursor: pointer;\n",
       "  display: block;\n",
       "  width: 100%;\n",
       "  margin-bottom: 0;\n",
       "  padding: 0.5em;\n",
       "  box-sizing: border-box;\n",
       "  text-align: center;\n",
       "}\n",
       "\n",
       "#sk-container-id-1 label.sk-toggleable__label-arrow:before {\n",
       "  /* Arrow on the left of the label */\n",
       "  content: \"▸\";\n",
       "  float: left;\n",
       "  margin-right: 0.25em;\n",
       "  color: var(--sklearn-color-icon);\n",
       "}\n",
       "\n",
       "#sk-container-id-1 label.sk-toggleable__label-arrow:hover:before {\n",
       "  color: var(--sklearn-color-text);\n",
       "}\n",
       "\n",
       "/* Toggleable content - dropdown */\n",
       "\n",
       "#sk-container-id-1 div.sk-toggleable__content {\n",
       "  max-height: 0;\n",
       "  max-width: 0;\n",
       "  overflow: hidden;\n",
       "  text-align: left;\n",
       "  /* unfitted */\n",
       "  background-color: var(--sklearn-color-unfitted-level-0);\n",
       "}\n",
       "\n",
       "#sk-container-id-1 div.sk-toggleable__content.fitted {\n",
       "  /* fitted */\n",
       "  background-color: var(--sklearn-color-fitted-level-0);\n",
       "}\n",
       "\n",
       "#sk-container-id-1 div.sk-toggleable__content pre {\n",
       "  margin: 0.2em;\n",
       "  border-radius: 0.25em;\n",
       "  color: var(--sklearn-color-text);\n",
       "  /* unfitted */\n",
       "  background-color: var(--sklearn-color-unfitted-level-0);\n",
       "}\n",
       "\n",
       "#sk-container-id-1 div.sk-toggleable__content.fitted pre {\n",
       "  /* unfitted */\n",
       "  background-color: var(--sklearn-color-fitted-level-0);\n",
       "}\n",
       "\n",
       "#sk-container-id-1 input.sk-toggleable__control:checked~div.sk-toggleable__content {\n",
       "  /* Expand drop-down */\n",
       "  max-height: 200px;\n",
       "  max-width: 100%;\n",
       "  overflow: auto;\n",
       "}\n",
       "\n",
       "#sk-container-id-1 input.sk-toggleable__control:checked~label.sk-toggleable__label-arrow:before {\n",
       "  content: \"▾\";\n",
       "}\n",
       "\n",
       "/* Pipeline/ColumnTransformer-specific style */\n",
       "\n",
       "#sk-container-id-1 div.sk-label input.sk-toggleable__control:checked~label.sk-toggleable__label {\n",
       "  color: var(--sklearn-color-text);\n",
       "  background-color: var(--sklearn-color-unfitted-level-2);\n",
       "}\n",
       "\n",
       "#sk-container-id-1 div.sk-label.fitted input.sk-toggleable__control:checked~label.sk-toggleable__label {\n",
       "  background-color: var(--sklearn-color-fitted-level-2);\n",
       "}\n",
       "\n",
       "/* Estimator-specific style */\n",
       "\n",
       "/* Colorize estimator box */\n",
       "#sk-container-id-1 div.sk-estimator input.sk-toggleable__control:checked~label.sk-toggleable__label {\n",
       "  /* unfitted */\n",
       "  background-color: var(--sklearn-color-unfitted-level-2);\n",
       "}\n",
       "\n",
       "#sk-container-id-1 div.sk-estimator.fitted input.sk-toggleable__control:checked~label.sk-toggleable__label {\n",
       "  /* fitted */\n",
       "  background-color: var(--sklearn-color-fitted-level-2);\n",
       "}\n",
       "\n",
       "#sk-container-id-1 div.sk-label label.sk-toggleable__label,\n",
       "#sk-container-id-1 div.sk-label label {\n",
       "  /* The background is the default theme color */\n",
       "  color: var(--sklearn-color-text-on-default-background);\n",
       "}\n",
       "\n",
       "/* On hover, darken the color of the background */\n",
       "#sk-container-id-1 div.sk-label:hover label.sk-toggleable__label {\n",
       "  color: var(--sklearn-color-text);\n",
       "  background-color: var(--sklearn-color-unfitted-level-2);\n",
       "}\n",
       "\n",
       "/* Label box, darken color on hover, fitted */\n",
       "#sk-container-id-1 div.sk-label.fitted:hover label.sk-toggleable__label.fitted {\n",
       "  color: var(--sklearn-color-text);\n",
       "  background-color: var(--sklearn-color-fitted-level-2);\n",
       "}\n",
       "\n",
       "/* Estimator label */\n",
       "\n",
       "#sk-container-id-1 div.sk-label label {\n",
       "  font-family: monospace;\n",
       "  font-weight: bold;\n",
       "  display: inline-block;\n",
       "  line-height: 1.2em;\n",
       "}\n",
       "\n",
       "#sk-container-id-1 div.sk-label-container {\n",
       "  text-align: center;\n",
       "}\n",
       "\n",
       "/* Estimator-specific */\n",
       "#sk-container-id-1 div.sk-estimator {\n",
       "  font-family: monospace;\n",
       "  border: 1px dotted var(--sklearn-color-border-box);\n",
       "  border-radius: 0.25em;\n",
       "  box-sizing: border-box;\n",
       "  margin-bottom: 0.5em;\n",
       "  /* unfitted */\n",
       "  background-color: var(--sklearn-color-unfitted-level-0);\n",
       "}\n",
       "\n",
       "#sk-container-id-1 div.sk-estimator.fitted {\n",
       "  /* fitted */\n",
       "  background-color: var(--sklearn-color-fitted-level-0);\n",
       "}\n",
       "\n",
       "/* on hover */\n",
       "#sk-container-id-1 div.sk-estimator:hover {\n",
       "  /* unfitted */\n",
       "  background-color: var(--sklearn-color-unfitted-level-2);\n",
       "}\n",
       "\n",
       "#sk-container-id-1 div.sk-estimator.fitted:hover {\n",
       "  /* fitted */\n",
       "  background-color: var(--sklearn-color-fitted-level-2);\n",
       "}\n",
       "\n",
       "/* Specification for estimator info (e.g. \"i\" and \"?\") */\n",
       "\n",
       "/* Common style for \"i\" and \"?\" */\n",
       "\n",
       ".sk-estimator-doc-link,\n",
       "a:link.sk-estimator-doc-link,\n",
       "a:visited.sk-estimator-doc-link {\n",
       "  float: right;\n",
       "  font-size: smaller;\n",
       "  line-height: 1em;\n",
       "  font-family: monospace;\n",
       "  background-color: var(--sklearn-color-background);\n",
       "  border-radius: 1em;\n",
       "  height: 1em;\n",
       "  width: 1em;\n",
       "  text-decoration: none !important;\n",
       "  margin-left: 1ex;\n",
       "  /* unfitted */\n",
       "  border: var(--sklearn-color-unfitted-level-1) 1pt solid;\n",
       "  color: var(--sklearn-color-unfitted-level-1);\n",
       "}\n",
       "\n",
       ".sk-estimator-doc-link.fitted,\n",
       "a:link.sk-estimator-doc-link.fitted,\n",
       "a:visited.sk-estimator-doc-link.fitted {\n",
       "  /* fitted */\n",
       "  border: var(--sklearn-color-fitted-level-1) 1pt solid;\n",
       "  color: var(--sklearn-color-fitted-level-1);\n",
       "}\n",
       "\n",
       "/* On hover */\n",
       "div.sk-estimator:hover .sk-estimator-doc-link:hover,\n",
       ".sk-estimator-doc-link:hover,\n",
       "div.sk-label-container:hover .sk-estimator-doc-link:hover,\n",
       ".sk-estimator-doc-link:hover {\n",
       "  /* unfitted */\n",
       "  background-color: var(--sklearn-color-unfitted-level-3);\n",
       "  color: var(--sklearn-color-background);\n",
       "  text-decoration: none;\n",
       "}\n",
       "\n",
       "div.sk-estimator.fitted:hover .sk-estimator-doc-link.fitted:hover,\n",
       ".sk-estimator-doc-link.fitted:hover,\n",
       "div.sk-label-container:hover .sk-estimator-doc-link.fitted:hover,\n",
       ".sk-estimator-doc-link.fitted:hover {\n",
       "  /* fitted */\n",
       "  background-color: var(--sklearn-color-fitted-level-3);\n",
       "  color: var(--sklearn-color-background);\n",
       "  text-decoration: none;\n",
       "}\n",
       "\n",
       "/* Span, style for the box shown on hovering the info icon */\n",
       ".sk-estimator-doc-link span {\n",
       "  display: none;\n",
       "  z-index: 9999;\n",
       "  position: relative;\n",
       "  font-weight: normal;\n",
       "  right: .2ex;\n",
       "  padding: .5ex;\n",
       "  margin: .5ex;\n",
       "  width: min-content;\n",
       "  min-width: 20ex;\n",
       "  max-width: 50ex;\n",
       "  color: var(--sklearn-color-text);\n",
       "  box-shadow: 2pt 2pt 4pt #999;\n",
       "  /* unfitted */\n",
       "  background: var(--sklearn-color-unfitted-level-0);\n",
       "  border: .5pt solid var(--sklearn-color-unfitted-level-3);\n",
       "}\n",
       "\n",
       ".sk-estimator-doc-link.fitted span {\n",
       "  /* fitted */\n",
       "  background: var(--sklearn-color-fitted-level-0);\n",
       "  border: var(--sklearn-color-fitted-level-3);\n",
       "}\n",
       "\n",
       ".sk-estimator-doc-link:hover span {\n",
       "  display: block;\n",
       "}\n",
       "\n",
       "/* \"?\"-specific style due to the `<a>` HTML tag */\n",
       "\n",
       "#sk-container-id-1 a.estimator_doc_link {\n",
       "  float: right;\n",
       "  font-size: 1rem;\n",
       "  line-height: 1em;\n",
       "  font-family: monospace;\n",
       "  background-color: var(--sklearn-color-background);\n",
       "  border-radius: 1rem;\n",
       "  height: 1rem;\n",
       "  width: 1rem;\n",
       "  text-decoration: none;\n",
       "  /* unfitted */\n",
       "  color: var(--sklearn-color-unfitted-level-1);\n",
       "  border: var(--sklearn-color-unfitted-level-1) 1pt solid;\n",
       "}\n",
       "\n",
       "#sk-container-id-1 a.estimator_doc_link.fitted {\n",
       "  /* fitted */\n",
       "  border: var(--sklearn-color-fitted-level-1) 1pt solid;\n",
       "  color: var(--sklearn-color-fitted-level-1);\n",
       "}\n",
       "\n",
       "/* On hover */\n",
       "#sk-container-id-1 a.estimator_doc_link:hover {\n",
       "  /* unfitted */\n",
       "  background-color: var(--sklearn-color-unfitted-level-3);\n",
       "  color: var(--sklearn-color-background);\n",
       "  text-decoration: none;\n",
       "}\n",
       "\n",
       "#sk-container-id-1 a.estimator_doc_link.fitted:hover {\n",
       "  /* fitted */\n",
       "  background-color: var(--sklearn-color-fitted-level-3);\n",
       "}\n",
       "</style><div id=\"sk-container-id-1\" class=\"sk-top-container\"><div class=\"sk-text-repr-fallback\"><pre>SGDRegressor()</pre><b>In a Jupyter environment, please rerun this cell to show the HTML representation or trust the notebook. <br />On GitHub, the HTML representation is unable to render, please try loading this page with nbviewer.org.</b></div><div class=\"sk-container\" hidden><div class=\"sk-item\"><div class=\"sk-estimator fitted sk-toggleable\"><input class=\"sk-toggleable__control sk-hidden--visually\" id=\"sk-estimator-id-1\" type=\"checkbox\" checked><label for=\"sk-estimator-id-1\" class=\"sk-toggleable__label fitted sk-toggleable__label-arrow fitted\">&nbsp;&nbsp;SGDRegressor<a class=\"sk-estimator-doc-link fitted\" rel=\"noreferrer\" target=\"_blank\" href=\"https://scikit-learn.org/1.5/modules/generated/sklearn.linear_model.SGDRegressor.html\">?<span>Documentation for SGDRegressor</span></a><span class=\"sk-estimator-doc-link fitted\">i<span>Fitted</span></span></label><div class=\"sk-toggleable__content fitted\"><pre>SGDRegressor()</pre></div> </div></div></div></div>"
      ],
      "text/plain": [
       "SGDRegressor()"
      ]
     },
     "execution_count": 26,
     "metadata": {},
     "output_type": "execute_result"
    }
   ],
   "source": [
    "# Create model\n",
    "model = SGDRegressor()\n",
    "\n",
    "# Train model\n",
    "model.fit(X_train, y_train)"
   ]
  },
  {
   "cell_type": "markdown",
   "metadata": {},
   "source": [
    "## Evaluasi model\n",
    "\n",
    "Buat prediksi dan evaluasi model menggunakan rata-rata kesalahan kuadrat (MSE)."
   ]
  },
  {
   "cell_type": "code",
   "execution_count": 27,
   "metadata": {},
   "outputs": [
    {
     "name": "stdout",
     "output_type": "stream",
     "text": [
      "Mean Absolute Error: 32182.74\n"
     ]
    }
   ],
   "source": [
    "y_pred = model.predict(X_test)\n",
    "mae = mean_absolute_error(y_test, y_pred)\n",
    "\n",
    "print(f\"Mean Absolute Error: {mae:.2f}\")"
   ]
  },
  {
   "cell_type": "markdown",
   "metadata": {},
   "source": [
    "Secara rata-rata, prediksi kita selisih 32182.74 terhadap hasil actual.\n",
    "\n",
    "Semakin kecil error, semakin bagus."
   ]
  }
 ],
 "metadata": {
  "kernelspec": {
   "display_name": "ml",
   "language": "python",
   "name": "python3"
  },
  "language_info": {
   "codemirror_mode": {
    "name": "ipython",
    "version": 3
   },
   "file_extension": ".py",
   "mimetype": "text/x-python",
   "name": "python",
   "nbconvert_exporter": "python",
   "pygments_lexer": "ipython3",
   "version": "3.12.7"
  }
 },
 "nbformat": 4,
 "nbformat_minor": 2
}
